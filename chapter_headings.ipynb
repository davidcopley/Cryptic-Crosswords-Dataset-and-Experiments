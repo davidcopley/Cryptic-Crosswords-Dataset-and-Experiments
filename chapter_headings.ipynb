{
 "cells": [
  {
   "cell_type": "markdown",
   "metadata": {},
   "source": [
    "# Neural Network Approaches in Classifying Cryptic Crossword Clues"
   ]
  },
  {
   "cell_type": "markdown",
   "metadata": {},
   "source": [
    "## David Copley - dncop1@student.monash.edu"
   ]
  },
  {
   "cell_type": "markdown",
   "metadata": {},
   "source": [
    "### Abstract"
   ]
  },
  {
   "cell_type": "markdown",
   "metadata": {},
   "source": [
    "### Contents"
   ]
  },
  {
   "cell_type": "markdown",
   "metadata": {},
   "source": [
    "### Acknowledgements"
   ]
  },
  {
   "cell_type": "markdown",
   "metadata": {},
   "source": [
    "### Introduction"
   ]
  },
  {
   "cell_type": "markdown",
   "metadata": {},
   "source": [
    "### Chapter 1 - Requirements Analysis\n",
    "#### Analysis of Cryptic Crosswords Domain\n",
    "#### Determining Resources (Dataset)\n",
    "#### Scoping Project\n",
    "#### Quality Control"
   ]
  },
  {
   "cell_type": "markdown",
   "metadata": {},
   "source": [
    "### Chapter 2 - Research on Text Classifiers\n",
    "#### Linear Classifiers\n",
    "##### Sequential Classifiers\n",
    "#### Non-Linear Classifiers\n",
    "##### Sequential Classifiers\n",
    "#### Word Representations"
   ]
  },
  {
   "cell_type": "markdown",
   "metadata": {},
   "source": [
    "### Chapter 3 - Data Gathering\n",
    "#### Understanding Resources\n",
    "#### Scraping for Cryptic Crossword Clues\n",
    "#### Parsing Scraped Data\n",
    "#### Pre-Processing Parsed Data"
   ]
  },
  {
   "cell_type": "markdown",
   "metadata": {},
   "source": [
    "### Chapter 4 - Experimenting with Linear Classifiers\n",
    "##### FastText Clue Type Classification\n",
    "##### SVM Clue Type Classification\n",
    "###### Evaluation"
   ]
  },
  {
   "cell_type": "markdown",
   "metadata": {},
   "source": [
    "### Chapter 5 - Experimenting with Neural Networks\n",
    "#### Convolutional Neural Network + one hot encoding\n",
    "#### GANT Neural Network + one hot encoding\n",
    "#### LSTM Neural Network + one hot encoding\n",
    "#### BI-LSTM Neural Network + one hot encoding\n",
    "#### BI-LSTM Neural Network + Word Embedding\n",
    "##### Baseline Comparisons\n",
    "###### Evaluation"
   ]
  },
  {
   "cell_type": "markdown",
   "metadata": {},
   "source": [
    "### Chapter 6 - Model Optimization\n",
    "#### Choice of model(s)\n",
    "#### Word representation tuning\n",
    "#### Clue representation tuning\n",
    "#### Model Hyperparameters tuning\n",
    "#### Choice of optimizer\n",
    "#### Conclusion"
   ]
  },
  {
   "cell_type": "markdown",
   "metadata": {},
   "source": [
    "### Chapter 7 - Software Engineering Considerations\n",
    "#### Software as a Service\n",
    "#### Object Oriented Patterns considerations\n",
    "#### Reusability, flexibility and extensibility"
   ]
  },
  {
   "cell_type": "markdown",
   "metadata": {},
   "source": [
    "### Chapter 8 - Evaluation\n",
    "#### Conclusive Evaluations"
   ]
  },
  {
   "cell_type": "markdown",
   "metadata": {},
   "source": [
    "### Chapter 9 - Conclusion\n",
    "#### Constraints\n",
    "#### Impact on cryptic natural language problems\n",
    "#### Impact on natural language processing society\n",
    "#### Impact on cryptic crossword solvers\n",
    "#### Further Research\n",
    "#### Summary"
   ]
  },
  {
   "cell_type": "markdown",
   "metadata": {},
   "source": [
    "### Bibliography"
   ]
  },
  {
   "cell_type": "markdown",
   "metadata": {},
   "source": [
    "### Appendices"
   ]
  },
  {
   "cell_type": "code",
   "execution_count": null,
   "metadata": {},
   "outputs": [],
   "source": []
  }
 ],
 "metadata": {
  "kernelspec": {
   "display_name": "Python 3",
   "language": "python",
   "name": "python3"
  },
  "language_info": {
   "codemirror_mode": {
    "name": "ipython",
    "version": 3
   },
   "file_extension": ".py",
   "mimetype": "text/x-python",
   "name": "python",
   "nbconvert_exporter": "python",
   "pygments_lexer": "ipython3",
   "version": "3.6.4"
  }
 },
 "nbformat": 4,
 "nbformat_minor": 2
}
