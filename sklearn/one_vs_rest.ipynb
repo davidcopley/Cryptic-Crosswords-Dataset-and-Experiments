{
 "cells": [
  {
   "cell_type": "code",
   "execution_count": 1,
   "metadata": {},
   "outputs": [
    {
     "name": "stderr",
     "output_type": "stream",
     "text": [
      "/anaconda3/lib/python3.6/site-packages/h5py/__init__.py:36: FutureWarning: Conversion of the second argument of issubdtype from `float` to `np.floating` is deprecated. In future, it will be treated as `np.float64 == np.dtype(float).type`.\n",
      "  from ._conv import register_converters as _register_converters\n",
      "Using TensorFlow backend.\n"
     ]
    }
   ],
   "source": [
    "import pandas as pd\n",
    "from keras.preprocessing.text import Tokenizer\n",
    "import re"
   ]
  },
  {
   "cell_type": "code",
   "execution_count": 2,
   "metadata": {},
   "outputs": [],
   "source": [
    "upsampled_input_cc_types_df = pd.read_csv(\"../upsampled_train_val_test/train_no_charade.csv\")\n",
    "val_cc_types_df = pd.read_csv(\"../upsampled_train_val_test/val_no_charade.csv\")\n",
    "test_cc_types_df = pd.read_csv(\"../upsampled_train_val_test/test_no_charade.csv\")"
   ]
  },
  {
   "cell_type": "code",
   "execution_count": 3,
   "metadata": {},
   "outputs": [],
   "source": [
    "input_cc_types_df=upsampled_input_cc_types_df.drop_duplicates()"
   ]
  },
  {
   "cell_type": "code",
   "execution_count": 4,
   "metadata": {},
   "outputs": [],
   "source": [
    "tokenizer = Tokenizer(filters='\"#$%&()*+/:;<=>?@[\\]^_`{|}~')#exclude ! . , -\n",
    "tokenizer.fit_on_texts(pd.concat([upsampled_input_cc_types_df,val_cc_types_df,test_cc_types_df])['clue'])"
   ]
  },
  {
   "cell_type": "code",
   "execution_count": 5,
   "metadata": {},
   "outputs": [],
   "source": [
    "input_bow = tokenizer.texts_to_matrix(upsampled_input_cc_types_df['clue'])"
   ]
  },
  {
   "cell_type": "code",
   "execution_count": 6,
   "metadata": {},
   "outputs": [],
   "source": [
    "def addSpaceBeforePunct(s):\n",
    "    s = re.sub('([.,!?()])', r' \\1 ', s)\n",
    "    s = re.sub('\\s{2,}', ' ', s)\n",
    "    return s"
   ]
  },
  {
   "cell_type": "code",
   "execution_count": 7,
   "metadata": {},
   "outputs": [],
   "source": [
    "upsampled_input_cc_types_df['clue'] = upsampled_input_cc_types_df['clue'].apply(addSpaceBeforePunct)\n",
    "val_cc_types_df['clue'] = val_cc_types_df['clue'].apply(addSpaceBeforePunct)\n",
    "test_cc_types_df['clue'] = test_cc_types_df['clue'].apply(addSpaceBeforePunct)"
   ]
  },
  {
   "cell_type": "code",
   "execution_count": 8,
   "metadata": {},
   "outputs": [],
   "source": [
    "inputs_X = tokenizer.texts_to_matrix(upsampled_input_cc_types_df['clue'])\n",
    "val_X = tokenizer.texts_to_matrix(val_cc_types_df['clue'])\n",
    "test_X = tokenizer.texts_to_matrix(test_cc_types_df['clue'])"
   ]
  },
  {
   "cell_type": "code",
   "execution_count": 24,
   "metadata": {},
   "outputs": [],
   "source": [
    "cc_types = 'is_anagram\tis_homophone\tis_double\tis_cryptic\tis_contain\tis_reverse\tis_alternate\tis_init\tis_delete\tis_&lit\tis_hidden\tis_spoonerism\tis_palindrome'.split('\t')"
   ]
  },
  {
   "cell_type": "code",
   "execution_count": 25,
   "metadata": {},
   "outputs": [],
   "source": [
    "cc_types_dict = {k: v for v, k in enumerate(cc_types)}"
   ]
  },
  {
   "cell_type": "code",
   "execution_count": 26,
   "metadata": {},
   "outputs": [],
   "source": [
    "inputs_Y = [cc_types_dict[val] for val in upsampled_input_cc_types_df['category'].values]\n",
    "val_Y = [cc_types_dict[val] for val in val_cc_types_df['category'].values]\n",
    "test_Y = [cc_types_dict[val] for val in test_cc_types_df['category'].values]"
   ]
  },
  {
   "cell_type": "code",
   "execution_count": 27,
   "metadata": {},
   "outputs": [],
   "source": [
    "from sklearn.multiclass import OneVsRestClassifier\n",
    "from sklearn.naive_bayes import MultinomialNB\n",
    "from sklearn.metrics import confusion_matrix\n"
   ]
  },
  {
   "cell_type": "code",
   "execution_count": 30,
   "metadata": {},
   "outputs": [],
   "source": [
    "ovr = OneVsRestClassifier(MultinomialNB())"
   ]
  },
  {
   "cell_type": "code",
   "execution_count": 31,
   "metadata": {},
   "outputs": [
    {
     "data": {
      "text/plain": [
       "OneVsRestClassifier(estimator=MultinomialNB(alpha=1.0, class_prior=None, fit_prior=True),\n",
       "          n_jobs=1)"
      ]
     },
     "execution_count": 31,
     "metadata": {},
     "output_type": "execute_result"
    }
   ],
   "source": [
    "ovr.fit(inputs_X,inputs_Y)"
   ]
  },
  {
   "cell_type": "code",
   "execution_count": 32,
   "metadata": {},
   "outputs": [
    {
     "data": {
      "text/plain": [
       "0.5033112582781457"
      ]
     },
     "execution_count": 32,
     "metadata": {},
     "output_type": "execute_result"
    }
   ],
   "source": [
    "ovr.score(val_X,val_Y)"
   ]
  },
  {
   "cell_type": "code",
   "execution_count": 33,
   "metadata": {},
   "outputs": [],
   "source": [
    "val_pred = ovr.predict(val_X)"
   ]
  },
  {
   "cell_type": "code",
   "execution_count": 34,
   "metadata": {},
   "outputs": [],
   "source": [
    "cnf_matrix = confusion_matrix(val_Y,val_pred)"
   ]
  },
  {
   "cell_type": "code",
   "execution_count": 35,
   "metadata": {},
   "outputs": [
    {
     "name": "stdout",
     "output_type": "stream",
     "text": [
      "Automatically created module for IPython interactive environment\n",
      "Confusion matrix, without normalization\n",
      "[[ 997   31   24  222  190  187   12  164  354   42  173    7    8]\n",
      " [   3  216   69   13   45   17    3    1    4    3    3    2    0]\n",
      " [  10    9    9   18   13    7    4    3    9    3   11    4    0]\n",
      " [  71   37   74  162   91   19   28    5   50   14   11    5    8]\n",
      " [  61   11    0   24 1427   38   14   21   30    1   10    0    0]\n",
      " [  83    3   19    2   61  414    2    4  113   11    1    0    1]\n",
      " [   0    0    0    0    0    0  129    0    0    0    0    0    0]\n",
      " [   4   12    3    3   12    9    2  101   28    1    5    0    1]\n",
      " [  29   59   16   77  406  101  234   68  724   16  179   13    7]\n",
      " [   5    5    1    5    2    5    1    3    2    2    2    0    0]\n",
      " [  70   11   24    6  121   65    6   30   23    4  128    0    0]\n",
      " [   0    0    0    0    0    0    0    0    0    0    1   21    0]\n",
      " [   1    1    0    0    0    4    0    0    1    0    0    0    2]]\n",
      "Normalized confusion matrix\n",
      "[[4.14e-01 1.29e-02 9.95e-03 9.21e-02 7.88e-02 7.76e-02 4.98e-03 6.80e-02\n",
      "  1.47e-01 1.74e-02 7.18e-02 2.90e-03 3.32e-03]\n",
      " [7.92e-03 5.70e-01 1.82e-01 3.43e-02 1.19e-01 4.49e-02 7.92e-03 2.64e-03\n",
      "  1.06e-02 7.92e-03 7.92e-03 5.28e-03 0.00e+00]\n",
      " [1.00e-01 9.00e-02 9.00e-02 1.80e-01 1.30e-01 7.00e-02 4.00e-02 3.00e-02\n",
      "  9.00e-02 3.00e-02 1.10e-01 4.00e-02 0.00e+00]\n",
      " [1.23e-01 6.43e-02 1.29e-01 2.82e-01 1.58e-01 3.30e-02 4.87e-02 8.70e-03\n",
      "  8.70e-02 2.43e-02 1.91e-02 8.70e-03 1.39e-02]\n",
      " [3.73e-02 6.72e-03 0.00e+00 1.47e-02 8.72e-01 2.32e-02 8.55e-03 1.28e-02\n",
      "  1.83e-02 6.11e-04 6.11e-03 0.00e+00 0.00e+00]\n",
      " [1.16e-01 4.20e-03 2.66e-02 2.80e-03 8.54e-02 5.80e-01 2.80e-03 5.60e-03\n",
      "  1.58e-01 1.54e-02 1.40e-03 0.00e+00 1.40e-03]\n",
      " [0.00e+00 0.00e+00 0.00e+00 0.00e+00 0.00e+00 0.00e+00 1.00e+00 0.00e+00\n",
      "  0.00e+00 0.00e+00 0.00e+00 0.00e+00 0.00e+00]\n",
      " [2.21e-02 6.63e-02 1.66e-02 1.66e-02 6.63e-02 4.97e-02 1.10e-02 5.58e-01\n",
      "  1.55e-01 5.52e-03 2.76e-02 0.00e+00 5.52e-03]\n",
      " [1.50e-02 3.06e-02 8.29e-03 3.99e-02 2.10e-01 5.24e-02 1.21e-01 3.53e-02\n",
      "  3.75e-01 8.29e-03 9.28e-02 6.74e-03 3.63e-03]\n",
      " [1.52e-01 1.52e-01 3.03e-02 1.52e-01 6.06e-02 1.52e-01 3.03e-02 9.09e-02\n",
      "  6.06e-02 6.06e-02 6.06e-02 0.00e+00 0.00e+00]\n",
      " [1.43e-01 2.25e-02 4.92e-02 1.23e-02 2.48e-01 1.33e-01 1.23e-02 6.15e-02\n",
      "  4.71e-02 8.20e-03 2.62e-01 0.00e+00 0.00e+00]\n",
      " [0.00e+00 0.00e+00 0.00e+00 0.00e+00 0.00e+00 0.00e+00 0.00e+00 0.00e+00\n",
      "  0.00e+00 0.00e+00 4.55e-02 9.55e-01 0.00e+00]\n",
      " [1.11e-01 1.11e-01 0.00e+00 0.00e+00 0.00e+00 4.44e-01 0.00e+00 0.00e+00\n",
      "  1.11e-01 0.00e+00 0.00e+00 0.00e+00 2.22e-01]]\n"
     ]
    }
   ],
   "source": [
    "print(__doc__)\n",
    "\n",
    "import itertools\n",
    "import numpy as np\n",
    "import matplotlib\n",
    "import matplotlib.pyplot as plt\n",
    "\n",
    "from sklearn.metrics import confusion_matrix\n",
    "\n",
    "matplotlib.matplotlib_fname()\n",
    "\n",
    "def plot_confusion_matrix(cm, classes,normalize=False,title='Confusion matrix',cmap=plt.cm.Blues):\n",
    "    \"\"\"\n",
    "    This function prints and plots the confusion matrix.\n",
    "    Normalization can be applied by setting `normalize=True`.\n",
    "    \"\"\"\n",
    "    if normalize:\n",
    "        cm = cm.astype('float') / cm.sum(axis=1)[:, np.newaxis]\n",
    "        print(\"Normalized confusion matrix\")\n",
    "    else:\n",
    "        print('Confusion matrix, without normalization')\n",
    "\n",
    "    print(cm)\n",
    "\n",
    "    plt.imshow(cm, interpolation='nearest', cmap=cmap)\n",
    "    plt.title(title)\n",
    "    plt.colorbar()\n",
    "    tick_marks = np.arange(len(classes))\n",
    "    plt.xticks(tick_marks, classes, rotation=45)\n",
    "    plt.yticks(tick_marks, classes)\n",
    "\n",
    "    fmt = '.2f' if normalize else 'd'\n",
    "    thresh = cm.max() / 2.\n",
    "    for i, j in itertools.product(range(cm.shape[0]), range(cm.shape[1])):\n",
    "        plt.text(j, i, format(cm[i, j], fmt),\n",
    "                 horizontalalignment=\"center\",\n",
    "                 color=\"white\" if cm[i, j] > thresh else \"black\")\n",
    "\n",
    "    plt.ylabel('True label')\n",
    "    plt.xlabel('Predicted label')\n",
    "    plt.tight_layout()\n",
    "\n",
    "\n",
    "# Compute confusion matrix\n",
    "np.set_printoptions(precision=2)\n",
    "class_names = cc_types\n",
    "# Plot non-normalized confusion matrix\n",
    "plt.figure(figsize=(15,15))\n",
    "plot_confusion_matrix(cnf_matrix, classes=class_names,\n",
    "                      title='One vs Rest - Confusion matrix, without normalization')\n",
    "\n",
    "plt.savefig(\"ovr_unnormalized\")\n",
    "# Plot normalized confusion matrix\n",
    "plt.figure(figsize=(15,15))\n",
    "plot_confusion_matrix(cnf_matrix, classes=class_names, normalize=True,\n",
    "                      title='One vs Rest - Normalized confusion matrix')\n",
    "\n",
    "plt.savefig(\"ovr_normalized\")"
   ]
  },
  {
   "cell_type": "code",
   "execution_count": null,
   "metadata": {},
   "outputs": [],
   "source": []
  }
 ],
 "metadata": {
  "kernelspec": {
   "display_name": "Python 3",
   "language": "python",
   "name": "python3"
  },
  "language_info": {
   "codemirror_mode": {
    "name": "ipython",
    "version": 3
   },
   "file_extension": ".py",
   "mimetype": "text/x-python",
   "name": "python",
   "nbconvert_exporter": "python",
   "pygments_lexer": "ipython3",
   "version": "3.6.4"
  }
 },
 "nbformat": 4,
 "nbformat_minor": 2
}
