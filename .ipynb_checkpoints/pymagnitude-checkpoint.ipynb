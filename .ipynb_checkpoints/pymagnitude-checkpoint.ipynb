{
 "cells": [
  {
   "cell_type": "code",
   "execution_count": 686,
   "metadata": {},
   "outputs": [],
   "source": [
    "import pandas as pd\n",
    "import math\n",
    "import keras\n",
    "from keras.layers import Dense,Embedding, Flatten, Conv1D, GlobalMaxPooling1D, LSTM, Bidirectional, Dropout,GaussianNoise\n",
    "from keras.preprocessing.text import text_to_word_sequence,Tokenizer\n",
    "from keras.preprocessing.sequence import pad_sequences"
   ]
  },
  {
   "cell_type": "code",
   "execution_count": 687,
   "metadata": {},
   "outputs": [],
   "source": [
    "from pymagnitude import MagnitudeUtils, Magnitude"
   ]
  },
  {
   "cell_type": "code",
   "execution_count": 688,
   "metadata": {},
   "outputs": [],
   "source": [
    "MAX_WORDS = 15 # The maximum number of words the sequence model will consider\n",
    "STD_DEV = 0.01 # Deviation of noise for Gaussian Noise applied to the embeddings\n",
    "HIDDEN_UNITS = 100 # The number of hidden units from the LSTM\n",
    "DROPOUT_RATIO = .5 # The ratio to dropout\n",
    "BATCH_SIZE = 128 # The number of examples per train/validation step\n",
    "EPOCHS = 200 # The number of times to repeat through all of the training data\n",
    "LEARNING_RATE = .01 # The learning rate for the optimizer"
   ]
  },
  {
   "cell_type": "code",
   "execution_count": 689,
   "metadata": {},
   "outputs": [],
   "source": [
    "vectors = Magnitude(\"./wiki-news-300d-1M.Magnitude\", pad_to_length = MAX_WORDS)"
   ]
  },
  {
   "cell_type": "code",
   "execution_count": 690,
   "metadata": {},
   "outputs": [],
   "source": [
    "df = pd.read_pickle(\"./cryptic_dataset/combined_fifteen_times_final_filtered.pickle\").drop_duplicates()"
   ]
  },
  {
   "cell_type": "code",
   "execution_count": 691,
   "metadata": {},
   "outputs": [],
   "source": [
    "anagram_df = df[\n",
    "    df.is_anagram &\n",
    "    ~df.is_homophone &\n",
    "    ~df.is_double &\n",
    "    ~df.is_cryptic & \n",
    "    ~df.is_contain & \n",
    "    ~df.is_reverse & \n",
    "    ~df.is_alternate &\n",
    "    ~df.is_init & \n",
    "    ~df.is_delete & \n",
    "    ~df.is_charade & \n",
    "    ~df['is_&lit'] & \n",
    "    ~df.is_hidden & \n",
    "    ~df.is_spoonerism & \n",
    "    ~df.is_palindrome\n",
    "]"
   ]
  },
  {
   "cell_type": "code",
   "execution_count": 692,
   "metadata": {},
   "outputs": [],
   "source": [
    "homophone_df = df[\n",
    "    ~df.is_anagram &\n",
    "    df.is_homophone &\n",
    "    ~df.is_double &\n",
    "    ~df.is_cryptic & \n",
    "    ~df.is_contain & \n",
    "    ~df.is_reverse & \n",
    "    ~df.is_alternate &\n",
    "    ~df.is_init & \n",
    "    ~df.is_delete & \n",
    "    ~df.is_charade & \n",
    "    ~df['is_&lit'] & \n",
    "    ~df.is_hidden & \n",
    "    ~df.is_spoonerism & \n",
    "    ~df.is_palindrome\n",
    "]"
   ]
  },
  {
   "cell_type": "code",
   "execution_count": 693,
   "metadata": {},
   "outputs": [],
   "source": [
    "double_df = df[\n",
    "    ~df.is_anagram &\n",
    "    ~df.is_homophone &\n",
    "    df.is_double &\n",
    "    ~df.is_cryptic & \n",
    "    ~df.is_contain & \n",
    "    ~df.is_reverse & \n",
    "    ~df.is_alternate &\n",
    "    ~df.is_init & \n",
    "    ~df.is_delete & \n",
    "    ~df.is_charade & \n",
    "    ~df['is_&lit'] & \n",
    "    ~df.is_hidden & \n",
    "    ~df.is_spoonerism & \n",
    "    ~df.is_palindrome\n",
    "]"
   ]
  },
  {
   "cell_type": "code",
   "execution_count": 694,
   "metadata": {},
   "outputs": [],
   "source": [
    "cryptic_df = df[\n",
    "    ~df.is_anagram &\n",
    "    ~df.is_homophone &\n",
    "    ~df.is_double &\n",
    "    df.is_cryptic & \n",
    "    ~df.is_contain & \n",
    "    ~df.is_reverse & \n",
    "    ~df.is_alternate &\n",
    "    ~df.is_init & \n",
    "    ~df.is_delete & \n",
    "    ~df.is_charade & \n",
    "    ~df['is_&lit'] & \n",
    "    ~df.is_hidden & \n",
    "    ~df.is_spoonerism & \n",
    "    ~df.is_palindrome\n",
    "]"
   ]
  },
  {
   "cell_type": "code",
   "execution_count": 695,
   "metadata": {},
   "outputs": [],
   "source": [
    "contain_df = df[\n",
    "    ~df.is_anagram &\n",
    "    ~df.is_homophone &\n",
    "    ~df.is_double &\n",
    "    ~df.is_cryptic & \n",
    "    df.is_contain & \n",
    "    ~df.is_reverse & \n",
    "    ~df.is_alternate &\n",
    "    ~df.is_init & \n",
    "    ~df.is_delete & \n",
    "    ~df.is_charade & \n",
    "    ~df['is_&lit'] & \n",
    "    ~df.is_hidden & \n",
    "    ~df.is_spoonerism & \n",
    "    ~df.is_palindrome\n",
    "]"
   ]
  },
  {
   "cell_type": "code",
   "execution_count": 696,
   "metadata": {},
   "outputs": [],
   "source": [
    "reverse_df = df[\n",
    "    ~df.is_anagram &\n",
    "    ~df.is_homophone &\n",
    "    ~df.is_double &\n",
    "    ~df.is_cryptic & \n",
    "    ~df.is_contain & \n",
    "    df.is_reverse & \n",
    "    ~df.is_alternate &\n",
    "    ~df.is_init & \n",
    "    ~df.is_delete & \n",
    "    ~df.is_charade & \n",
    "    ~df['is_&lit'] & \n",
    "    ~df.is_hidden & \n",
    "    ~df.is_spoonerism & \n",
    "    ~df.is_palindrome\n",
    "]"
   ]
  },
  {
   "cell_type": "code",
   "execution_count": 697,
   "metadata": {},
   "outputs": [],
   "source": [
    "alternate_df = df[\n",
    "    ~df.is_anagram &\n",
    "    ~df.is_homophone &\n",
    "    ~df.is_double &\n",
    "    ~df.is_cryptic & \n",
    "    ~df.is_contain & \n",
    "    ~df.is_reverse & \n",
    "    df.is_alternate &\n",
    "    ~df.is_init & \n",
    "    ~df.is_delete & \n",
    "    ~df.is_charade & \n",
    "    ~df['is_&lit'] & \n",
    "    ~df.is_hidden & \n",
    "    ~df.is_spoonerism & \n",
    "    ~df.is_palindrome\n",
    "]"
   ]
  },
  {
   "cell_type": "code",
   "execution_count": 698,
   "metadata": {},
   "outputs": [],
   "source": [
    "init_df = df[\n",
    "    ~df.is_anagram &\n",
    "    ~df.is_homophone &\n",
    "    ~df.is_double &\n",
    "    ~df.is_cryptic & \n",
    "    ~df.is_contain & \n",
    "    ~df.is_reverse & \n",
    "    ~df.is_alternate &\n",
    "    df.is_init & \n",
    "    ~df.is_delete & \n",
    "    ~df.is_charade & \n",
    "    ~df['is_&lit'] & \n",
    "    ~df.is_hidden & \n",
    "    ~df.is_spoonerism & \n",
    "    ~df.is_palindrome\n",
    "]"
   ]
  },
  {
   "cell_type": "code",
   "execution_count": 699,
   "metadata": {},
   "outputs": [],
   "source": [
    "delete_df = df[\n",
    "    ~df.is_anagram &\n",
    "    ~df.is_homophone &\n",
    "    ~df.is_double &\n",
    "    ~df.is_cryptic & \n",
    "    ~df.is_contain & \n",
    "    ~df.is_reverse & \n",
    "    ~df.is_alternate &\n",
    "    ~df.is_init & \n",
    "    df.is_delete & \n",
    "    ~df.is_charade & \n",
    "    ~df['is_&lit'] & \n",
    "    ~df.is_hidden & \n",
    "    ~df.is_spoonerism & \n",
    "    ~df.is_palindrome\n",
    "]"
   ]
  },
  {
   "cell_type": "code",
   "execution_count": 700,
   "metadata": {},
   "outputs": [],
   "source": [
    "charade_df = df[\n",
    "    ~df.is_anagram &\n",
    "    ~df.is_homophone &\n",
    "    ~df.is_double &\n",
    "    ~df.is_cryptic & \n",
    "    ~df.is_contain & \n",
    "    ~df.is_reverse & \n",
    "    ~df.is_alternate &\n",
    "    ~df.is_init & \n",
    "    ~df.is_delete & \n",
    "    df.is_charade & \n",
    "    ~df['is_&lit'] & \n",
    "    ~df.is_hidden & \n",
    "    ~df.is_spoonerism & \n",
    "    ~df.is_palindrome\n",
    "]"
   ]
  },
  {
   "cell_type": "code",
   "execution_count": 701,
   "metadata": {},
   "outputs": [],
   "source": [
    "lit_df = df[\n",
    "    ~df.is_anagram &\n",
    "    ~df.is_homophone &\n",
    "    ~df.is_double &\n",
    "    ~df.is_cryptic & \n",
    "    ~df.is_contain & \n",
    "    ~df.is_reverse & \n",
    "    ~df.is_alternate &\n",
    "    ~df.is_init & \n",
    "    ~df.is_delete & \n",
    "    ~df.is_charade & \n",
    "    df['is_&lit'] & \n",
    "    ~df.is_hidden & \n",
    "    ~df.is_spoonerism & \n",
    "    ~df.is_palindrome\n",
    "]"
   ]
  },
  {
   "cell_type": "code",
   "execution_count": 702,
   "metadata": {},
   "outputs": [],
   "source": [
    "hidden_df = df[\n",
    "    ~df.is_anagram &\n",
    "    ~df.is_homophone &\n",
    "    ~df.is_double &\n",
    "    ~df.is_cryptic & \n",
    "    ~df.is_contain & \n",
    "    ~df.is_reverse & \n",
    "    ~df.is_alternate &\n",
    "    ~df.is_init & \n",
    "    ~df.is_delete & \n",
    "    ~df.is_charade & \n",
    "    ~df['is_&lit'] & \n",
    "    df.is_hidden & \n",
    "    ~df.is_spoonerism & \n",
    "    ~df.is_palindrome\n",
    "]"
   ]
  },
  {
   "cell_type": "code",
   "execution_count": 703,
   "metadata": {},
   "outputs": [],
   "source": [
    "spoonerism_df = df[\n",
    "    ~df.is_anagram &\n",
    "    ~df.is_homophone &\n",
    "    ~df.is_double &\n",
    "    ~df.is_cryptic & \n",
    "    ~df.is_contain & \n",
    "    ~df.is_reverse & \n",
    "    ~df.is_alternate &\n",
    "    ~df.is_init & \n",
    "    ~df.is_delete & \n",
    "    ~df.is_charade & \n",
    "    ~df['is_&lit'] & \n",
    "    ~df.is_hidden & \n",
    "    df.is_spoonerism & \n",
    "    ~df.is_palindrome\n",
    "]"
   ]
  },
  {
   "cell_type": "code",
   "execution_count": 704,
   "metadata": {},
   "outputs": [],
   "source": [
    "palindrome_df = df[\n",
    "    ~df.is_anagram &\n",
    "    ~df.is_homophone &\n",
    "    ~df.is_double &\n",
    "    ~df.is_cryptic & \n",
    "    ~df.is_contain & \n",
    "    ~df.is_reverse & \n",
    "    ~df.is_alternate &\n",
    "    ~df.is_init & \n",
    "    ~df.is_delete & \n",
    "    ~df.is_charade & \n",
    "    ~df['is_&lit'] & \n",
    "    ~df.is_hidden & \n",
    "    ~df.is_spoonerism & \n",
    "    df.is_palindrome\n",
    "]"
   ]
  },
  {
   "cell_type": "code",
   "execution_count": 705,
   "metadata": {},
   "outputs": [],
   "source": [
    "tokenizer = Tokenizer()\n",
    "tokenizer.fit_on_texts(df.clue.tolist())"
   ]
  },
  {
   "cell_type": "code",
   "execution_count": 706,
   "metadata": {},
   "outputs": [],
   "source": [
    "cc_types_dfs = [anagram_df,homophone_df,double_df,cryptic_df,contain_df,reverse_df,alternate_df,init_df,delete_df,lit_df,hidden_df,spoonerism_df,palindrome_df]"
   ]
  },
  {
   "cell_type": "code",
   "execution_count": 707,
   "metadata": {},
   "outputs": [],
   "source": [
    "cc_types = 'is_anagram\tis_homophone\tis_double\tis_cryptic\tis_contain\tis_reverse\tis_alternate\tis_init\tis_delete\tis_charade\tis_&lit\tis_hidden\tis_spoonerism\tis_palindrome'.split('\t')"
   ]
  },
  {
   "cell_type": "code",
   "execution_count": 708,
   "metadata": {},
   "outputs": [],
   "source": [
    "for df,cc_type in zip(cc_types_dfs,cc_types):\n",
    "    df['category'] = cc_type"
   ]
  },
  {
   "cell_type": "code",
   "execution_count": 709,
   "metadata": {},
   "outputs": [],
   "source": [
    "def get_input_val_test(df):\n",
    "    length = len(df)\n",
    "    input_len = math.floor(length*0.7)\n",
    "    val_len  = math.floor(length*0.2)\n",
    "    test_len = math.floor(length*0.1)\n",
    "    input_df = df[:input_len]\n",
    "    val_df = df[input_len:input_len+val_len]\n",
    "    test_df = df[input_len+val_len:]\n",
    "    return input_df,val_df,test_df"
   ]
  },
  {
   "cell_type": "code",
   "execution_count": 710,
   "metadata": {},
   "outputs": [],
   "source": [
    "input_cc_types_df = pd.concat([get_input_val_test(df)[0] for df in cc_types_dfs]).sample(frac=1)\n",
    "val_cc_types_df = pd.concat([get_input_val_test(df)[1] for df in cc_types_dfs]).sample(frac=1)\n",
    "test_cc_types_df = pd.concat([get_input_val_test(df)[2] for df in cc_types_dfs]).sample(frac=1)"
   ]
  },
  {
   "cell_type": "code",
   "execution_count": 711,
   "metadata": {},
   "outputs": [],
   "source": [
    "max_size = input_cc_types_df.groupby('category').count().max()[0]"
   ]
  },
  {
   "cell_type": "code",
   "execution_count": 712,
   "metadata": {},
   "outputs": [],
   "source": [
    "lst = [input_cc_types_df]\n",
    "for class_index, group in input_cc_types_df.groupby('category'):\n",
    "    sample = group.sample(max_size-len(group), replace=True, )\n",
    "    lst.append(sample)\n",
    "upsampled_input_cc_types_df = pd.concat(lst)"
   ]
  },
  {
   "cell_type": "code",
   "execution_count": 713,
   "metadata": {},
   "outputs": [],
   "source": [
    "cc_input_df = upsampled_input_cc_types_df.drop('category',axis=1).sample(frac=1)\n",
    "cc_val_df = val_cc_types_df.drop('category',axis=1).drop_duplicates()\n",
    "cc_test_df = test_cc_types_df.drop('category',axis=1).drop_duplicates()"
   ]
  },
  {
   "cell_type": "code",
   "execution_count": 714,
   "metadata": {},
   "outputs": [],
   "source": [
    "cc_input_df['category'] = MagnitudeUtils.from_categorical(cc_input_df[cc_input_df.columns[2:]].as_matrix())\n",
    "cc_val_df['category'] = MagnitudeUtils.from_categorical(cc_val_df[cc_val_df.columns[2:]].as_matrix())\n",
    "cc_test_df['category'] = MagnitudeUtils.from_categorical(cc_test_df[cc_test_df.columns[2:]].as_matrix())"
   ]
  },
  {
   "cell_type": "code",
   "execution_count": 715,
   "metadata": {},
   "outputs": [
    {
     "data": {
      "text/plain": [
       "category\n",
       "0     8728\n",
       "1     8728\n",
       "2     8728\n",
       "4     8728\n",
       "5     8728\n",
       "6     8728\n",
       "7     8728\n",
       "8     8728\n",
       "9     8728\n",
       "10    8728\n",
       "11    8728\n",
       "12    8728\n",
       "13    8728\n",
       "Name: clue, dtype: int64"
      ]
     },
     "execution_count": 715,
     "metadata": {},
     "output_type": "execute_result"
    }
   ],
   "source": [
    "cc_input_df.groupby('category').count()['clue']"
   ]
  },
  {
   "cell_type": "code",
   "execution_count": 716,
   "metadata": {},
   "outputs": [
    {
     "data": {
      "text/plain": [
       "category\n",
       "0     1827\n",
       "1      296\n",
       "2       90\n",
       "4     1090\n",
       "5      521\n",
       "6       54\n",
       "7      147\n",
       "8     1359\n",
       "9     2493\n",
       "10      29\n",
       "11     370\n",
       "12      21\n",
       "13       9\n",
       "Name: clue, dtype: int64"
      ]
     },
     "execution_count": 716,
     "metadata": {},
     "output_type": "execute_result"
    }
   ],
   "source": [
    "cc_val_df.groupby('category').count()['clue']"
   ]
  },
  {
   "cell_type": "code",
   "execution_count": 717,
   "metadata": {},
   "outputs": [
    {
     "data": {
      "text/plain": [
       "category\n",
       "0      915\n",
       "1      148\n",
       "2       46\n",
       "4      546\n",
       "5      262\n",
       "6       28\n",
       "7       75\n",
       "8      681\n",
       "9     1248\n",
       "10      15\n",
       "11     186\n",
       "12      12\n",
       "13       5\n",
       "Name: clue, dtype: int64"
      ]
     },
     "execution_count": 717,
     "metadata": {},
     "output_type": "execute_result"
    }
   ],
   "source": [
    "cc_test_df.groupby('category').count()['clue']"
   ]
  },
  {
   "cell_type": "code",
   "execution_count": 718,
   "metadata": {},
   "outputs": [],
   "source": [
    "cc_input_df.clue = cc_input_df.clue.apply(text_to_word_sequence)\n",
    "cc_val_df.clue = cc_val_df.clue.apply(text_to_word_sequence)\n",
    "cc_test_df.clue = cc_test_df.clue.apply(text_to_word_sequence)"
   ]
  },
  {
   "cell_type": "code",
   "execution_count": 719,
   "metadata": {},
   "outputs": [],
   "source": [
    "import numpy as np"
   ]
  },
  {
   "cell_type": "code",
   "execution_count": 720,
   "metadata": {},
   "outputs": [],
   "source": [
    "cc_input_data = cc_input_df.clue.tolist()\n",
    "cc_val_data = cc_val_df.clue.tolist()\n",
    "cc_test_data = cc_test_df.clue.tolist()"
   ]
  },
  {
   "cell_type": "code",
   "execution_count": 721,
   "metadata": {},
   "outputs": [],
   "source": [
    "cc_input_data_out = cc_input_df['category']\n",
    "cc_val_data_out = cc_val_df['category']\n",
    "cc_test_data_out = cc_test_df['category']"
   ]
  },
  {
   "cell_type": "code",
   "execution_count": 722,
   "metadata": {},
   "outputs": [],
   "source": [
    "num_training = len(cc_input_data_out)\n",
    "num_val = len(cc_val_data_out)\n",
    "num_test = len(cc_test_data_out)\n",
    "num_outputs = max(np.max(cc_input_data_out), np.max(cc_test_data_out)) + 1"
   ]
  },
  {
   "cell_type": "code",
   "execution_count": 723,
   "metadata": {},
   "outputs": [],
   "source": [
    "from math import ceil"
   ]
  },
  {
   "cell_type": "code",
   "execution_count": 724,
   "metadata": {},
   "outputs": [],
   "source": [
    "training_batches = MagnitudeUtils.batchify(cc_input_data, cc_input_data_out, BATCH_SIZE) # Split the training data into batches\n",
    "num_batches_per_epoch_train = int(ceil(num_training/float(BATCH_SIZE)))\n",
    "val_batches = MagnitudeUtils.batchify(cc_val_data, cc_val_data_out, 1)\n",
    "num_batches_per_epoch_val = int(ceil(num_val/float(1)))\n",
    "test_batches = MagnitudeUtils.batchify(cc_test_data, cc_test_data_out, 1)  # Split the test data into batches\n",
    "num_batches_per_epoch_test = int(ceil(num_test/float(1)))"
   ]
  },
  {
   "cell_type": "code",
   "execution_count": 725,
   "metadata": {},
   "outputs": [],
   "source": [
    "# Generates batches of the transformed training data\n",
    "train_batch_generator = (\n",
    "  (\n",
    "    vectors.query(X_train_batch), # Magnitude will handle converting the 2D array of text into the 3D word vector representations!\n",
    "    MagnitudeUtils.to_categorical(y_train_batch, num_outputs) # Magnitude will handle converting the class labels into one-hot encodings!\n",
    "  ) for X_train_batch, y_train_batch in training_batches\n",
    ")"
   ]
  },
  {
   "cell_type": "code",
   "execution_count": 726,
   "metadata": {},
   "outputs": [],
   "source": [
    "# Generates batches of the transformed training data\n",
    "val_batch_generator = (\n",
    "  (\n",
    "    vectors.query(X_val_batch), # Magnitude will handle converting the 2D array of text into the 3D word vector representations!\n",
    "    MagnitudeUtils.to_categorical(y_val_batch, num_outputs) # Magnitude will handle converting the class labels into one-hot encodings!\n",
    "  ) for X_val_batch, y_val_batch in val_batches\n",
    ")"
   ]
  },
  {
   "cell_type": "code",
   "execution_count": 727,
   "metadata": {},
   "outputs": [],
   "source": [
    "# Generates batches of the transformed test data\n",
    "test_batch_generator = (\n",
    "  (\n",
    "    vectors.query(X_test_batch), # Magnitude will handle converting the 2D array of text into the 3D word vector representations!\n",
    "    MagnitudeUtils.to_categorical(y_test_batch, num_outputs) # Magnitude will handle converting the class labels into one-hot encodings!\n",
    "  ) for X_test_batch, y_test_batch in test_batches\n",
    ")\n"
   ]
  },
  {
   "cell_type": "code",
   "execution_count": 731,
   "metadata": {},
   "outputs": [],
   "source": [
    "model = keras.Sequential()\n",
    "model.add(GaussianNoise(STD_DEV, input_shape=(MAX_WORDS, vectors.dim)))\n",
    "model.add(Bidirectional(LSTM(300, activation='tanh')))\n",
    "model.add(Dropout(DROPOUT_RATIO))\n",
    "model.add(Dense(num_outputs, activation='softmax'))\n",
    "\n",
    "model.compile(\n",
    "    loss='categorical_crossentropy',\n",
    "    optimizer='RMSProp',\n",
    "    metrics=['categorical_accuracy']\n",
    ")"
   ]
  },
  {
   "cell_type": "code",
   "execution_count": 732,
   "metadata": {},
   "outputs": [],
   "source": [
    "filepath=\"1xBilstm-Pretrained_Fasttext-{epoch:02d}-{loss:.2f}-{categorical_accuracy:.2f}-{val_loss:.2f}-{val_categorical_accuracy:.2f}-singlelabel.hdf5\"\n",
    "checkpoint = keras.callbacks.ModelCheckpoint(filepath, monitor='val_loss', verbose=1, save_best_only=False, save_weights_only=False, mode='auto', period=1)\n",
    "callbacks_list = [checkpoint]"
   ]
  },
  {
   "cell_type": "code",
   "execution_count": 733,
   "metadata": {
    "scrolled": true
   },
   "outputs": [
    {
     "name": "stdout",
     "output_type": "stream",
     "text": [
      "Epoch 1/16\n",
      "887/887 [==============================] - 96s 109ms/step - loss: 0.6810 - categorical_accuracy: 0.7956 - val_loss: 1.6949 - val_categorical_accuracy: 0.3724\n",
      "\n",
      "Epoch 00001: saving model to 1xBilstm-Pretrained_Fasttext-01-0.68-0.80-1.69-0.37-singlelabel.hdf5\n",
      "Epoch 2/16\n",
      "887/887 [==============================] - 93s 104ms/step - loss: 0.5982 - categorical_accuracy: 0.8213 - val_loss: 1.6254 - val_categorical_accuracy: 0.4062\n",
      "\n",
      "Epoch 00002: saving model to 1xBilstm-Pretrained_Fasttext-02-0.60-0.82-1.63-0.41-singlelabel.hdf5\n",
      "Epoch 3/16\n",
      "887/887 [==============================] - 90s 102ms/step - loss: 0.5476 - categorical_accuracy: 0.8308 - val_loss: 1.5888 - val_categorical_accuracy: 0.4240\n",
      "\n",
      "Epoch 00003: saving model to 1xBilstm-Pretrained_Fasttext-03-0.55-0.83-1.59-0.42-singlelabel.hdf5\n",
      "Epoch 4/16\n",
      "887/887 [==============================] - 90s 101ms/step - loss: 0.5268 - categorical_accuracy: 0.8380 - val_loss: 1.5633 - val_categorical_accuracy: 0.4332\n",
      "\n",
      "Epoch 00004: saving model to 1xBilstm-Pretrained_Fasttext-04-0.53-0.84-1.56-0.43-singlelabel.hdf5\n",
      "Epoch 5/16\n",
      "887/887 [==============================] - 90s 101ms/step - loss: 0.5101 - categorical_accuracy: 0.8431 - val_loss: 1.5334 - val_categorical_accuracy: 0.4487\n",
      "\n",
      "Epoch 00005: saving model to 1xBilstm-Pretrained_Fasttext-05-0.51-0.84-1.53-0.45-singlelabel.hdf5\n",
      "Epoch 6/16\n",
      "887/887 [==============================] - 90s 101ms/step - loss: 0.5001 - categorical_accuracy: 0.8466 - val_loss: 1.5131 - val_categorical_accuracy: 0.4494\n",
      "\n",
      "Epoch 00006: saving model to 1xBilstm-Pretrained_Fasttext-06-0.50-0.85-1.51-0.45-singlelabel.hdf5\n",
      "Epoch 7/16\n",
      "887/887 [==============================] - 90s 102ms/step - loss: 0.4906 - categorical_accuracy: 0.8498 - val_loss: 1.4946 - val_categorical_accuracy: 0.4586\n",
      "\n",
      "Epoch 00007: saving model to 1xBilstm-Pretrained_Fasttext-07-0.49-0.85-1.49-0.46-singlelabel.hdf5\n",
      "Epoch 8/16\n",
      "887/887 [==============================] - 91s 103ms/step - loss: 0.4760 - categorical_accuracy: 0.8523 - val_loss: 1.4875 - val_categorical_accuracy: 0.4575\n",
      "\n",
      "Epoch 00008: saving model to 1xBilstm-Pretrained_Fasttext-08-0.48-0.85-1.49-0.46-singlelabel.hdf5\n",
      "Epoch 9/16\n",
      "325/887 [=========>....................] - ETA: 55s - loss: 0.8402 - categorical_accuracy: 0.7126"
     ]
    },
    {
     "ename": "KeyboardInterrupt",
     "evalue": "",
     "output_type": "error",
     "traceback": [
      "\u001b[1;31m---------------------------------------------------------------------------\u001b[0m",
      "\u001b[1;31mKeyboardInterrupt\u001b[0m                         Traceback (most recent call last)",
      "\u001b[1;32m<ipython-input-733-a42d4fad2e73>\u001b[0m in \u001b[0;36m<module>\u001b[1;34m()\u001b[0m\n\u001b[0;32m      6\u001b[0m     \u001b[0mvalidation_data\u001b[0m \u001b[1;33m=\u001b[0m \u001b[1;33m(\u001b[0m\u001b[0mvectors\u001b[0m\u001b[1;33m.\u001b[0m\u001b[0mquery\u001b[0m\u001b[1;33m(\u001b[0m\u001b[0mcc_val_data\u001b[0m\u001b[1;33m)\u001b[0m\u001b[1;33m,\u001b[0m\u001b[0mMagnitudeUtils\u001b[0m\u001b[1;33m.\u001b[0m\u001b[0mto_categorical\u001b[0m\u001b[1;33m(\u001b[0m\u001b[0mcc_val_data_out\u001b[0m\u001b[1;33m)\u001b[0m\u001b[1;33m)\u001b[0m\u001b[1;33m,\u001b[0m\u001b[1;33m\u001b[0m\u001b[0m\n\u001b[0;32m      7\u001b[0m     \u001b[0mepochs\u001b[0m \u001b[1;33m=\u001b[0m \u001b[0mEPOCHS\u001b[0m\u001b[1;33m,\u001b[0m\u001b[1;33m\u001b[0m\u001b[0m\n\u001b[1;32m----> 8\u001b[1;33m     \u001b[0mcallbacks\u001b[0m\u001b[1;33m=\u001b[0m\u001b[0mcallbacks_list\u001b[0m\u001b[1;33m\u001b[0m\u001b[0m\n\u001b[0m\u001b[0;32m      9\u001b[0m )\n",
      "\u001b[1;32m~\\Anaconda3\\lib\\site-packages\\keras\\legacy\\interfaces.py\u001b[0m in \u001b[0;36mwrapper\u001b[1;34m(*args, **kwargs)\u001b[0m\n\u001b[0;32m     89\u001b[0m                 warnings.warn('Update your `' + object_name +\n\u001b[0;32m     90\u001b[0m                               '` call to the Keras 2 API: ' + signature, stacklevel=2)\n\u001b[1;32m---> 91\u001b[1;33m             \u001b[1;32mreturn\u001b[0m \u001b[0mfunc\u001b[0m\u001b[1;33m(\u001b[0m\u001b[1;33m*\u001b[0m\u001b[0margs\u001b[0m\u001b[1;33m,\u001b[0m \u001b[1;33m**\u001b[0m\u001b[0mkwargs\u001b[0m\u001b[1;33m)\u001b[0m\u001b[1;33m\u001b[0m\u001b[0m\n\u001b[0m\u001b[0;32m     92\u001b[0m         \u001b[0mwrapper\u001b[0m\u001b[1;33m.\u001b[0m\u001b[0m_original_function\u001b[0m \u001b[1;33m=\u001b[0m \u001b[0mfunc\u001b[0m\u001b[1;33m\u001b[0m\u001b[0m\n\u001b[0;32m     93\u001b[0m         \u001b[1;32mreturn\u001b[0m \u001b[0mwrapper\u001b[0m\u001b[1;33m\u001b[0m\u001b[0m\n",
      "\u001b[1;32m~\\Anaconda3\\lib\\site-packages\\keras\\engine\\training.py\u001b[0m in \u001b[0;36mfit_generator\u001b[1;34m(self, generator, steps_per_epoch, epochs, verbose, callbacks, validation_data, validation_steps, class_weight, max_queue_size, workers, use_multiprocessing, shuffle, initial_epoch)\u001b[0m\n\u001b[0;32m   1413\u001b[0m             \u001b[0muse_multiprocessing\u001b[0m\u001b[1;33m=\u001b[0m\u001b[0muse_multiprocessing\u001b[0m\u001b[1;33m,\u001b[0m\u001b[1;33m\u001b[0m\u001b[0m\n\u001b[0;32m   1414\u001b[0m             \u001b[0mshuffle\u001b[0m\u001b[1;33m=\u001b[0m\u001b[0mshuffle\u001b[0m\u001b[1;33m,\u001b[0m\u001b[1;33m\u001b[0m\u001b[0m\n\u001b[1;32m-> 1415\u001b[1;33m             initial_epoch=initial_epoch)\n\u001b[0m\u001b[0;32m   1416\u001b[0m \u001b[1;33m\u001b[0m\u001b[0m\n\u001b[0;32m   1417\u001b[0m     \u001b[1;33m@\u001b[0m\u001b[0minterfaces\u001b[0m\u001b[1;33m.\u001b[0m\u001b[0mlegacy_generator_methods_support\u001b[0m\u001b[1;33m\u001b[0m\u001b[0m\n",
      "\u001b[1;32m~\\Anaconda3\\lib\\site-packages\\keras\\engine\\training_generator.py\u001b[0m in \u001b[0;36mfit_generator\u001b[1;34m(model, generator, steps_per_epoch, epochs, verbose, callbacks, validation_data, validation_steps, class_weight, max_queue_size, workers, use_multiprocessing, shuffle, initial_epoch)\u001b[0m\n\u001b[0;32m    211\u001b[0m                 outs = model.train_on_batch(x, y,\n\u001b[0;32m    212\u001b[0m                                             \u001b[0msample_weight\u001b[0m\u001b[1;33m=\u001b[0m\u001b[0msample_weight\u001b[0m\u001b[1;33m,\u001b[0m\u001b[1;33m\u001b[0m\u001b[0m\n\u001b[1;32m--> 213\u001b[1;33m                                             class_weight=class_weight)\n\u001b[0m\u001b[0;32m    214\u001b[0m \u001b[1;33m\u001b[0m\u001b[0m\n\u001b[0;32m    215\u001b[0m                 \u001b[0mouts\u001b[0m \u001b[1;33m=\u001b[0m \u001b[0mto_list\u001b[0m\u001b[1;33m(\u001b[0m\u001b[0mouts\u001b[0m\u001b[1;33m)\u001b[0m\u001b[1;33m\u001b[0m\u001b[0m\n",
      "\u001b[1;32m~\\Anaconda3\\lib\\site-packages\\keras\\engine\\training.py\u001b[0m in \u001b[0;36mtrain_on_batch\u001b[1;34m(self, x, y, sample_weight, class_weight)\u001b[0m\n\u001b[0;32m   1213\u001b[0m             \u001b[0mins\u001b[0m \u001b[1;33m=\u001b[0m \u001b[0mx\u001b[0m \u001b[1;33m+\u001b[0m \u001b[0my\u001b[0m \u001b[1;33m+\u001b[0m \u001b[0msample_weights\u001b[0m\u001b[1;33m\u001b[0m\u001b[0m\n\u001b[0;32m   1214\u001b[0m         \u001b[0mself\u001b[0m\u001b[1;33m.\u001b[0m\u001b[0m_make_train_function\u001b[0m\u001b[1;33m(\u001b[0m\u001b[1;33m)\u001b[0m\u001b[1;33m\u001b[0m\u001b[0m\n\u001b[1;32m-> 1215\u001b[1;33m         \u001b[0moutputs\u001b[0m \u001b[1;33m=\u001b[0m \u001b[0mself\u001b[0m\u001b[1;33m.\u001b[0m\u001b[0mtrain_function\u001b[0m\u001b[1;33m(\u001b[0m\u001b[0mins\u001b[0m\u001b[1;33m)\u001b[0m\u001b[1;33m\u001b[0m\u001b[0m\n\u001b[0m\u001b[0;32m   1216\u001b[0m         \u001b[1;32mreturn\u001b[0m \u001b[0munpack_singleton\u001b[0m\u001b[1;33m(\u001b[0m\u001b[0moutputs\u001b[0m\u001b[1;33m)\u001b[0m\u001b[1;33m\u001b[0m\u001b[0m\n\u001b[0;32m   1217\u001b[0m \u001b[1;33m\u001b[0m\u001b[0m\n",
      "\u001b[1;32m~\\Anaconda3\\lib\\site-packages\\keras\\backend\\tensorflow_backend.py\u001b[0m in \u001b[0;36m__call__\u001b[1;34m(self, inputs)\u001b[0m\n\u001b[0;32m   2664\u001b[0m                 \u001b[1;32mreturn\u001b[0m \u001b[0mself\u001b[0m\u001b[1;33m.\u001b[0m\u001b[0m_legacy_call\u001b[0m\u001b[1;33m(\u001b[0m\u001b[0minputs\u001b[0m\u001b[1;33m)\u001b[0m\u001b[1;33m\u001b[0m\u001b[0m\n\u001b[0;32m   2665\u001b[0m \u001b[1;33m\u001b[0m\u001b[0m\n\u001b[1;32m-> 2666\u001b[1;33m             \u001b[1;32mreturn\u001b[0m \u001b[0mself\u001b[0m\u001b[1;33m.\u001b[0m\u001b[0m_call\u001b[0m\u001b[1;33m(\u001b[0m\u001b[0minputs\u001b[0m\u001b[1;33m)\u001b[0m\u001b[1;33m\u001b[0m\u001b[0m\n\u001b[0m\u001b[0;32m   2667\u001b[0m         \u001b[1;32melse\u001b[0m\u001b[1;33m:\u001b[0m\u001b[1;33m\u001b[0m\u001b[0m\n\u001b[0;32m   2668\u001b[0m             \u001b[1;32mif\u001b[0m \u001b[0mpy_any\u001b[0m\u001b[1;33m(\u001b[0m\u001b[0mis_tensor\u001b[0m\u001b[1;33m(\u001b[0m\u001b[0mx\u001b[0m\u001b[1;33m)\u001b[0m \u001b[1;32mfor\u001b[0m \u001b[0mx\u001b[0m \u001b[1;32min\u001b[0m \u001b[0minputs\u001b[0m\u001b[1;33m)\u001b[0m\u001b[1;33m:\u001b[0m\u001b[1;33m\u001b[0m\u001b[0m\n",
      "\u001b[1;32m~\\Anaconda3\\lib\\site-packages\\keras\\backend\\tensorflow_backend.py\u001b[0m in \u001b[0;36m_call\u001b[1;34m(self, inputs)\u001b[0m\n\u001b[0;32m   2634\u001b[0m                                 \u001b[0msymbol_vals\u001b[0m\u001b[1;33m,\u001b[0m\u001b[1;33m\u001b[0m\u001b[0m\n\u001b[0;32m   2635\u001b[0m                                 session)\n\u001b[1;32m-> 2636\u001b[1;33m         \u001b[0mfetched\u001b[0m \u001b[1;33m=\u001b[0m \u001b[0mself\u001b[0m\u001b[1;33m.\u001b[0m\u001b[0m_callable_fn\u001b[0m\u001b[1;33m(\u001b[0m\u001b[1;33m*\u001b[0m\u001b[0marray_vals\u001b[0m\u001b[1;33m)\u001b[0m\u001b[1;33m\u001b[0m\u001b[0m\n\u001b[0m\u001b[0;32m   2637\u001b[0m         \u001b[1;32mreturn\u001b[0m \u001b[0mfetched\u001b[0m\u001b[1;33m[\u001b[0m\u001b[1;33m:\u001b[0m\u001b[0mlen\u001b[0m\u001b[1;33m(\u001b[0m\u001b[0mself\u001b[0m\u001b[1;33m.\u001b[0m\u001b[0moutputs\u001b[0m\u001b[1;33m)\u001b[0m\u001b[1;33m]\u001b[0m\u001b[1;33m\u001b[0m\u001b[0m\n\u001b[0;32m   2638\u001b[0m \u001b[1;33m\u001b[0m\u001b[0m\n",
      "\u001b[1;32m~\\Anaconda3\\lib\\site-packages\\tensorflow\\python\\client\\session.py\u001b[0m in \u001b[0;36m__call__\u001b[1;34m(self, *args)\u001b[0m\n\u001b[0;32m   1449\u001b[0m         \u001b[1;32mif\u001b[0m \u001b[0mself\u001b[0m\u001b[1;33m.\u001b[0m\u001b[0m_session\u001b[0m\u001b[1;33m.\u001b[0m\u001b[0m_created_with_new_api\u001b[0m\u001b[1;33m:\u001b[0m\u001b[1;33m\u001b[0m\u001b[0m\n\u001b[0;32m   1450\u001b[0m           return tf_session.TF_SessionRunCallable(\n\u001b[1;32m-> 1451\u001b[1;33m               self._session._session, self._handle, args, status, None)\n\u001b[0m\u001b[0;32m   1452\u001b[0m         \u001b[1;32melse\u001b[0m\u001b[1;33m:\u001b[0m\u001b[1;33m\u001b[0m\u001b[0m\n\u001b[0;32m   1453\u001b[0m           return tf_session.TF_DeprecatedSessionRunCallable(\n",
      "\u001b[1;31mKeyboardInterrupt\u001b[0m: "
     ]
    }
   ],
   "source": [
    "from keras.utils import np_utils\n",
    "EPOCHS = 16\n",
    "history = model.fit_generator(\n",
    "    generator = train_batch_generator,\n",
    "    steps_per_epoch = num_batches_per_epoch_train,\n",
    "    validation_data = (vectors.query(cc_val_data),MagnitudeUtils.to_categorical(cc_val_data_out)),\n",
    "    epochs = EPOCHS,\n",
    "    callbacks=callbacks_list\n",
    ")"
   ]
  },
  {
   "cell_type": "code",
   "execution_count": 734,
   "metadata": {
    "scrolled": false
   },
   "outputs": [
    {
     "name": "stdout",
     "output_type": "stream",
     "text": [
      "8306/8306 [==============================] - 7s 785us/step\n"
     ]
    },
    {
     "data": {
      "text/plain": [
       "[8.56544663778076, 0.03166385745334103]"
      ]
     },
     "execution_count": 734,
     "metadata": {},
     "output_type": "execute_result"
    }
   ],
   "source": [
    "model.evaluate(vectors.query(cc_val_data),MagnitudeUtils.to_categorical(cc_val_data_out))"
   ]
  },
  {
   "cell_type": "code",
   "execution_count": 735,
   "metadata": {},
   "outputs": [],
   "source": [
    "rows = MagnitudeUtils.to_categorical(cc_val_data_out)"
   ]
  },
  {
   "cell_type": "code",
   "execution_count": 736,
   "metadata": {},
   "outputs": [
    {
     "name": "stdout",
     "output_type": "stream",
     "text": [
      "386\n",
      "880\n",
      "3661\n",
      "4579\n",
      "5355\n",
      "5508\n",
      "7330\n",
      "7797\n",
      "7920\n"
     ]
    }
   ],
   "source": [
    "for i,row in enumerate(rows):\n",
    "    if(row[13]==1):\n",
    "        print(i)"
   ]
  },
  {
   "cell_type": "code",
   "execution_count": 737,
   "metadata": {},
   "outputs": [],
   "source": [
    "preds = model.predict(vectors.query(cc_val_data))"
   ]
  },
  {
   "cell_type": "code",
   "execution_count": 738,
   "metadata": {},
   "outputs": [
    {
     "data": {
      "text/plain": [
       "array([1.38e-04, 1.73e-06, 1.11e-04, 4.39e-10, 3.50e-05, 3.22e-05,\n",
       "       1.58e-06, 1.27e-06, 1.57e-05, 9.77e-06, 1.00e+00, 2.27e-05,\n",
       "       7.77e-06, 9.68e-08], dtype=float32)"
      ]
     },
     "execution_count": 738,
     "metadata": {},
     "output_type": "execute_result"
    }
   ],
   "source": [
    "preds[6826]"
   ]
  },
  {
   "cell_type": "code",
   "execution_count": 739,
   "metadata": {},
   "outputs": [
    {
     "data": {
      "text/plain": [
       "8306"
      ]
     },
     "execution_count": 739,
     "metadata": {},
     "output_type": "execute_result"
    }
   ],
   "source": [
    "len(MagnitudeUtils.to_categorical(cc_val_data_out))"
   ]
  },
  {
   "cell_type": "code",
   "execution_count": 740,
   "metadata": {},
   "outputs": [],
   "source": [
    "preds = [pred.argmax(axis=0) for pred in preds]"
   ]
  },
  {
   "cell_type": "code",
   "execution_count": 741,
   "metadata": {},
   "outputs": [],
   "source": [
    "from sklearn.metrics import confusion_matrix\n",
    "cnf_matrix = confusion_matrix(cc_val_data_out.as_matrix(),preds)"
   ]
  },
  {
   "cell_type": "code",
   "execution_count": 742,
   "metadata": {},
   "outputs": [
    {
     "name": "stdout",
     "output_type": "stream",
     "text": [
      "386\n",
      "880\n",
      "3661\n",
      "4579\n",
      "5355\n",
      "5508\n",
      "7330\n",
      "7797\n",
      "7920\n"
     ]
    }
   ],
   "source": [
    "for i,pred in enumerate(cc_val_data_out.as_matrix()):\n",
    "    if(pred == 13):\n",
    "        print(i)"
   ]
  },
  {
   "cell_type": "code",
   "execution_count": 743,
   "metadata": {},
   "outputs": [
    {
     "name": "stdout",
     "output_type": "stream",
     "text": [
      "Automatically created module for IPython interactive environment\n",
      "Confusion matrix, without normalization\n",
      "[[ 120    9    0    1    2    0    1    1    0 1690    0    3    0]\n",
      " [  13   73    0    0    0    0    0    0    0  210    0    0    0]\n",
      " [   2    2    0    0    0    0    0    0    0   86    0    0    0]\n",
      " [  27    9    0    6    1    0    0    1    1 1042    3    0    0]\n",
      " [  14    5    0    1   15    0    3    0    0  480    3    0    0]\n",
      " [   0    0    0    0    0    0    0    0    0   54    0    0    0]\n",
      " [   3    0    0    0    0    0   11    1    1  131    0    0    0]\n",
      " [  37    6    1    2    2    0    5    3    0 1301    1    1    0]\n",
      " [  53   18    0    3   10    0    9    0    2 2393    2    3    0]\n",
      " [   0    0    0    0    0    0    0    0    0   29    0    0    0]\n",
      " [  15    1    0    2    0    0    0    0    0  348    3    1    0]\n",
      " [   0    0    0    0    0    0    0    0    0   20    0    1    0]\n",
      " [   0    0    0    0    0    0    0    0    0    9    0    0    0]]\n",
      "Normalized confusion matrix\n",
      "[[6.57e-02 4.93e-03 0.00e+00 5.47e-04 1.09e-03 0.00e+00 5.47e-04 5.47e-04\n",
      "  0.00e+00 9.25e-01 0.00e+00 1.64e-03 0.00e+00]\n",
      " [4.39e-02 2.47e-01 0.00e+00 0.00e+00 0.00e+00 0.00e+00 0.00e+00 0.00e+00\n",
      "  0.00e+00 7.09e-01 0.00e+00 0.00e+00 0.00e+00]\n",
      " [2.22e-02 2.22e-02 0.00e+00 0.00e+00 0.00e+00 0.00e+00 0.00e+00 0.00e+00\n",
      "  0.00e+00 9.56e-01 0.00e+00 0.00e+00 0.00e+00]\n",
      " [2.48e-02 8.26e-03 0.00e+00 5.50e-03 9.17e-04 0.00e+00 0.00e+00 9.17e-04\n",
      "  9.17e-04 9.56e-01 2.75e-03 0.00e+00 0.00e+00]\n",
      " [2.69e-02 9.60e-03 0.00e+00 1.92e-03 2.88e-02 0.00e+00 5.76e-03 0.00e+00\n",
      "  0.00e+00 9.21e-01 5.76e-03 0.00e+00 0.00e+00]\n",
      " [0.00e+00 0.00e+00 0.00e+00 0.00e+00 0.00e+00 0.00e+00 0.00e+00 0.00e+00\n",
      "  0.00e+00 1.00e+00 0.00e+00 0.00e+00 0.00e+00]\n",
      " [2.04e-02 0.00e+00 0.00e+00 0.00e+00 0.00e+00 0.00e+00 7.48e-02 6.80e-03\n",
      "  6.80e-03 8.91e-01 0.00e+00 0.00e+00 0.00e+00]\n",
      " [2.72e-02 4.42e-03 7.36e-04 1.47e-03 1.47e-03 0.00e+00 3.68e-03 2.21e-03\n",
      "  0.00e+00 9.57e-01 7.36e-04 7.36e-04 0.00e+00]\n",
      " [2.13e-02 7.22e-03 0.00e+00 1.20e-03 4.01e-03 0.00e+00 3.61e-03 0.00e+00\n",
      "  8.02e-04 9.60e-01 8.02e-04 1.20e-03 0.00e+00]\n",
      " [0.00e+00 0.00e+00 0.00e+00 0.00e+00 0.00e+00 0.00e+00 0.00e+00 0.00e+00\n",
      "  0.00e+00 1.00e+00 0.00e+00 0.00e+00 0.00e+00]\n",
      " [4.05e-02 2.70e-03 0.00e+00 5.41e-03 0.00e+00 0.00e+00 0.00e+00 0.00e+00\n",
      "  0.00e+00 9.41e-01 8.11e-03 2.70e-03 0.00e+00]\n",
      " [0.00e+00 0.00e+00 0.00e+00 0.00e+00 0.00e+00 0.00e+00 0.00e+00 0.00e+00\n",
      "  0.00e+00 9.52e-01 0.00e+00 4.76e-02 0.00e+00]\n",
      " [0.00e+00 0.00e+00 0.00e+00 0.00e+00 0.00e+00 0.00e+00 0.00e+00 0.00e+00\n",
      "  0.00e+00 1.00e+00 0.00e+00 0.00e+00 0.00e+00]]\n"
     ]
    },
    {
     "data": {
      "image/png": "[encoded data removed]",
      "text/plain": [
       "<matplotlib.figure.Figure at 0x1d05c9e4588>"
      ]
     },
     "metadata": {},
     "output_type": "display_data"
    },
    {
     "data": {
      "image/png": "[encoded data removed]",
      "text/plain": [
       "<matplotlib.figure.Figure at 0x1d06a374b70>"
      ]
     },
     "metadata": {},
     "output_type": "display_data"
    }
   ],
   "source": [
    "print(__doc__)\n",
    "\n",
    "import itertools\n",
    "import numpy as np\n",
    "import matplotlib\n",
    "import matplotlib.pyplot as plt\n",
    "\n",
    "\n",
    "matplotlib.rcParams['interactive'] == True\n",
    "\n",
    "def plot_confusion_matrix(cm, classes,\n",
    "                          normalize=False,\n",
    "                          title='Confusion matrix',\n",
    "                          cmap=plt.cm.Blues):\n",
    "    \"\"\"\n",
    "    This function prints and plots the confusion matrix.\n",
    "    Normalization can be applied by setting `normalize=True`.\n",
    "    \"\"\"\n",
    "    if normalize:\n",
    "        cm = cm.astype('float') / cm.sum(axis=1)[:, np.newaxis]\n",
    "        print(\"Normalized confusion matrix\")\n",
    "    else:\n",
    "        print('Confusion matrix, without normalization')\n",
    "\n",
    "    print(cm)\n",
    "\n",
    "    plt.imshow(cm, interpolation='nearest', cmap=cmap)\n",
    "    plt.title(title)\n",
    "    plt.colorbar()\n",
    "    tick_marks = np.arange(len(classes))\n",
    "    plt.xticks(tick_marks, classes, rotation=45)\n",
    "    plt.yticks(tick_marks, classes)\n",
    "\n",
    "    fmt = '.2f' if normalize else 'd'\n",
    "    thresh = cm.max() / 2.\n",
    "    for i, j in itertools.product(range(cm.shape[0]), range(cm.shape[1])):\n",
    "        plt.text(j, i, format(cm[i, j], fmt),\n",
    "                 horizontalalignment=\"center\",\n",
    "                 color=\"white\" if cm[i, j] > thresh else \"black\")\n",
    "\n",
    "    plt.ylabel('True label')\n",
    "    plt.xlabel('Predicted label')\n",
    "    plt.tight_layout()\n",
    "\n",
    "\n",
    "# Compute confusion matrix\n",
    "np.set_printoptions(precision=2)\n",
    "class_names = cc_types\n",
    "# Plot non-normalized confusion matrix\n",
    "plt.figure(figsize=(15,15))\n",
    "plot_confusion_matrix(cnf_matrix, classes=class_names,\n",
    "                      title='Confusion matrix, without normalization')\n",
    "\n",
    "# Plot normalized confusion matrix\n",
    "plt.figure(figsize=(15,15))\n",
    "plot_confusion_matrix(cnf_matrix, classes=class_names, normalize=True,\n",
    "                      title='Normalized confusion matrix')\n",
    "\n",
    "plt.show()"
   ]
  }
 ],
 "metadata": {
  "kernelspec": {
   "display_name": "Python 3",
   "language": "python",
   "name": "python3"
  },
  "language_info": {
   "codemirror_mode": {
    "name": "ipython",
    "version": 3
   },
   "file_extension": ".py",
   "mimetype": "text/x-python",
   "name": "python",
   "nbconvert_exporter": "python",
   "pygments_lexer": "ipython3",
   "version": "3.6.4"
  }
 },
 "nbformat": 4,
 "nbformat_minor": 2
}
