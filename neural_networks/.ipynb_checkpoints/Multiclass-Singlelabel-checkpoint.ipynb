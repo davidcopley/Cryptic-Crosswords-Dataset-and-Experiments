{
 "cells": [
  {
   "cell_type": "code",
   "execution_count": null,
   "metadata": {},
   "outputs": [],
   "source": [
    "import pandas as pd\n",
    "import math\n",
    "import keras\n",
    "from keras.layers import Dense,Embedding, Flatten, Conv1D, GlobalMaxPooling1D, LSTM, Bidirectional, Dropout\n",
    "from keras.preprocessing.text import text_to_word_sequence,Tokenizer\n",
    "from keras.preprocessing.sequence import pad_sequences"
   ]
  },
  {
   "cell_type": "code",
   "execution_count": null,
   "metadata": {},
   "outputs": [],
   "source": [
    "df = pd.read_pickle(\"../cryptic_dataset/combined_fifteen_times_final_filtered.pickle\")"
   ]
  },
  {
   "cell_type": "code",
   "execution_count": null,
   "metadata": {},
   "outputs": [],
   "source": [
    "anagram_df = df[\n",
    "    df.is_anagram &\n",
    "    ~df.is_homophone &\n",
    "    ~df.is_double &\n",
    "    ~df.is_cryptic & \n",
    "    ~df.is_contain & \n",
    "    ~df.is_reverse & \n",
    "    ~df.is_alternate &\n",
    "    ~df.is_init & \n",
    "    ~df.is_delete & \n",
    "    ~df.is_charade & \n",
    "    ~df['is_&lit'] & \n",
    "    ~df.is_hidden & \n",
    "    ~df.is_spoonerism & \n",
    "    ~df.is_palindrome\n",
    "]"
   ]
  },
  {
   "cell_type": "code",
   "execution_count": null,
   "metadata": {},
   "outputs": [],
   "source": [
    "homophone_df = df[\n",
    "    ~df.is_anagram &\n",
    "    df.is_homophone &\n",
    "    ~df.is_double &\n",
    "    ~df.is_cryptic & \n",
    "    ~df.is_contain & \n",
    "    ~df.is_reverse & \n",
    "    ~df.is_alternate &\n",
    "    ~df.is_init & \n",
    "    ~df.is_delete & \n",
    "    ~df.is_charade & \n",
    "    ~df['is_&lit'] & \n",
    "    ~df.is_hidden & \n",
    "    ~df.is_spoonerism & \n",
    "    ~df.is_palindrome\n",
    "]"
   ]
  },
  {
   "cell_type": "code",
   "execution_count": null,
   "metadata": {},
   "outputs": [],
   "source": [
    "double_df = df[\n",
    "    ~df.is_anagram &\n",
    "    ~df.is_homophone &\n",
    "    df.is_double &\n",
    "    ~df.is_cryptic & \n",
    "    ~df.is_contain & \n",
    "    ~df.is_reverse & \n",
    "    ~df.is_alternate &\n",
    "    ~df.is_init & \n",
    "    ~df.is_delete & \n",
    "    ~df.is_charade & \n",
    "    ~df['is_&lit'] & \n",
    "    ~df.is_hidden & \n",
    "    ~df.is_spoonerism & \n",
    "    ~df.is_palindrome\n",
    "]"
   ]
  },
  {
   "cell_type": "code",
   "execution_count": null,
   "metadata": {},
   "outputs": [],
   "source": [
    "cryptic_df = df[\n",
    "    ~df.is_anagram &\n",
    "    ~df.is_homophone &\n",
    "    ~df.is_double &\n",
    "    df.is_cryptic & \n",
    "    ~df.is_contain & \n",
    "    ~df.is_reverse & \n",
    "    ~df.is_alternate &\n",
    "    ~df.is_init & \n",
    "    ~df.is_delete & \n",
    "    ~df.is_charade & \n",
    "    ~df['is_&lit'] & \n",
    "    ~df.is_hidden & \n",
    "    ~df.is_spoonerism & \n",
    "    ~df.is_palindrome\n",
    "]"
   ]
  },
  {
   "cell_type": "code",
   "execution_count": null,
   "metadata": {},
   "outputs": [],
   "source": [
    "contain_df = df[\n",
    "    ~df.is_anagram &\n",
    "    ~df.is_homophone &\n",
    "    ~df.is_double &\n",
    "    ~df.is_cryptic & \n",
    "    df.is_contain & \n",
    "    ~df.is_reverse & \n",
    "    ~df.is_alternate &\n",
    "    ~df.is_init & \n",
    "    ~df.is_delete & \n",
    "    ~df.is_charade & \n",
    "    ~df['is_&lit'] & \n",
    "    ~df.is_hidden & \n",
    "    ~df.is_spoonerism & \n",
    "    ~df.is_palindrome\n",
    "]"
   ]
  },
  {
   "cell_type": "code",
   "execution_count": null,
   "metadata": {},
   "outputs": [],
   "source": [
    "reverse_df = df[\n",
    "    ~df.is_anagram &\n",
    "    ~df.is_homophone &\n",
    "    ~df.is_double &\n",
    "    ~df.is_cryptic & \n",
    "    ~df.is_contain & \n",
    "    df.is_reverse & \n",
    "    ~df.is_alternate &\n",
    "    ~df.is_init & \n",
    "    ~df.is_delete & \n",
    "    ~df.is_charade & \n",
    "    ~df['is_&lit'] & \n",
    "    ~df.is_hidden & \n",
    "    ~df.is_spoonerism & \n",
    "    ~df.is_palindrome\n",
    "]"
   ]
  },
  {
   "cell_type": "code",
   "execution_count": null,
   "metadata": {},
   "outputs": [],
   "source": [
    "alternate_df = df[\n",
    "    ~df.is_anagram &\n",
    "    ~df.is_homophone &\n",
    "    ~df.is_double &\n",
    "    ~df.is_cryptic & \n",
    "    ~df.is_contain & \n",
    "    ~df.is_reverse & \n",
    "    df.is_alternate &\n",
    "    ~df.is_init & \n",
    "    ~df.is_delete & \n",
    "    ~df.is_charade & \n",
    "    ~df['is_&lit'] & \n",
    "    ~df.is_hidden & \n",
    "    ~df.is_spoonerism & \n",
    "    ~df.is_palindrome\n",
    "]"
   ]
  },
  {
   "cell_type": "code",
   "execution_count": null,
   "metadata": {},
   "outputs": [],
   "source": [
    "init_df = df[\n",
    "    ~df.is_anagram &\n",
    "    ~df.is_homophone &\n",
    "    ~df.is_double &\n",
    "    ~df.is_cryptic & \n",
    "    ~df.is_contain & \n",
    "    ~df.is_reverse & \n",
    "    ~df.is_alternate &\n",
    "    df.is_init & \n",
    "    ~df.is_delete & \n",
    "    ~df.is_charade & \n",
    "    ~df['is_&lit'] & \n",
    "    ~df.is_hidden & \n",
    "    ~df.is_spoonerism & \n",
    "    ~df.is_palindrome\n",
    "]"
   ]
  },
  {
   "cell_type": "code",
   "execution_count": null,
   "metadata": {},
   "outputs": [],
   "source": [
    "delete_df = df[\n",
    "    ~df.is_anagram &\n",
    "    ~df.is_homophone &\n",
    "    ~df.is_double &\n",
    "    ~df.is_cryptic & \n",
    "    ~df.is_contain & \n",
    "    ~df.is_reverse & \n",
    "    ~df.is_alternate &\n",
    "    ~df.is_init & \n",
    "    df.is_delete & \n",
    "    ~df.is_charade & \n",
    "    ~df['is_&lit'] & \n",
    "    ~df.is_hidden & \n",
    "    ~df.is_spoonerism & \n",
    "    ~df.is_palindrome\n",
    "]"
   ]
  },
  {
   "cell_type": "code",
   "execution_count": null,
   "metadata": {},
   "outputs": [],
   "source": [
    "charade_df = df[\n",
    "    ~df.is_anagram &\n",
    "    ~df.is_homophone &\n",
    "    ~df.is_double &\n",
    "    ~df.is_cryptic & \n",
    "    ~df.is_contain & \n",
    "    ~df.is_reverse & \n",
    "    ~df.is_alternate &\n",
    "    ~df.is_init & \n",
    "    ~df.is_delete & \n",
    "    df.is_charade & \n",
    "    ~df['is_&lit'] & \n",
    "    ~df.is_hidden & \n",
    "    ~df.is_spoonerism & \n",
    "    ~df.is_palindrome\n",
    "]"
   ]
  },
  {
   "cell_type": "code",
   "execution_count": null,
   "metadata": {},
   "outputs": [],
   "source": [
    "lit_df = df[\n",
    "    ~df.is_anagram &\n",
    "    ~df.is_homophone &\n",
    "    ~df.is_double &\n",
    "    ~df.is_cryptic & \n",
    "    ~df.is_contain & \n",
    "    ~df.is_reverse & \n",
    "    ~df.is_alternate &\n",
    "    ~df.is_init & \n",
    "    ~df.is_delete & \n",
    "    ~df.is_charade & \n",
    "    df['is_&lit'] & \n",
    "    ~df.is_hidden & \n",
    "    ~df.is_spoonerism & \n",
    "    ~df.is_palindrome\n",
    "]"
   ]
  },
  {
   "cell_type": "code",
   "execution_count": null,
   "metadata": {},
   "outputs": [],
   "source": [
    "hidden_df = df[\n",
    "    ~df.is_anagram &\n",
    "    ~df.is_homophone &\n",
    "    ~df.is_double &\n",
    "    ~df.is_cryptic & \n",
    "    ~df.is_contain & \n",
    "    ~df.is_reverse & \n",
    "    ~df.is_alternate &\n",
    "    ~df.is_init & \n",
    "    ~df.is_delete & \n",
    "    ~df.is_charade & \n",
    "    ~df['is_&lit'] & \n",
    "    df.is_hidden & \n",
    "    ~df.is_spoonerism & \n",
    "    ~df.is_palindrome\n",
    "]"
   ]
  },
  {
   "cell_type": "code",
   "execution_count": null,
   "metadata": {},
   "outputs": [],
   "source": [
    "spoonerism_df = df[\n",
    "    ~df.is_anagram &\n",
    "    ~df.is_homophone &\n",
    "    ~df.is_double &\n",
    "    ~df.is_cryptic & \n",
    "    ~df.is_contain & \n",
    "    ~df.is_reverse & \n",
    "    ~df.is_alternate &\n",
    "    ~df.is_init & \n",
    "    ~df.is_delete & \n",
    "    ~df.is_charade & \n",
    "    ~df['is_&lit'] & \n",
    "    ~df.is_hidden & \n",
    "    df.is_spoonerism & \n",
    "    ~df.is_palindrome\n",
    "]"
   ]
  },
  {
   "cell_type": "code",
   "execution_count": null,
   "metadata": {},
   "outputs": [],
   "source": [
    "palindrome_df = df[\n",
    "    ~df.is_anagram &\n",
    "    ~df.is_homophone &\n",
    "    ~df.is_double &\n",
    "    ~df.is_cryptic & \n",
    "    ~df.is_contain & \n",
    "    ~df.is_reverse & \n",
    "    ~df.is_alternate &\n",
    "    ~df.is_init & \n",
    "    ~df.is_delete & \n",
    "    ~df.is_charade & \n",
    "    ~df['is_&lit'] & \n",
    "    ~df.is_hidden & \n",
    "    ~df.is_spoonerism & \n",
    "    df.is_palindrome\n",
    "]"
   ]
  },
  {
   "cell_type": "code",
   "execution_count": null,
   "metadata": {},
   "outputs": [],
   "source": [
    "tokenizer = Tokenizer()\n",
    "tokenizer.fit_on_texts(df.clue.tolist())"
   ]
  },
  {
   "cell_type": "code",
   "execution_count": null,
   "metadata": {},
   "outputs": [],
   "source": [
    "cc_types_dfs = [homophone_df,double_df,cryptic_df,contain_df,reverse_df,alternate_df,init_df,delete_df,lit_df,hidden_df,spoonerism_df,palindrome_df]"
   ]
  },
  {
   "cell_type": "code",
   "execution_count": null,
   "metadata": {},
   "outputs": [],
   "source": [
    "cc_types = 'is_homophone\tis_double\tis_cryptic\tis_contain\tis_reverse\tis_alternate\tis_init\tis_delete\tis_&lit\tis_hidden\tis_spoonerism\tis_palindrome'.split('\t')"
   ]
  },
  {
   "cell_type": "code",
   "execution_count": null,
   "metadata": {},
   "outputs": [],
   "source": [
    "for df,cc_type in zip(cc_types_dfs,cc_types):\n",
    "    df['category'] = cc_type"
   ]
  },
  {
   "cell_type": "code",
   "execution_count": null,
   "metadata": {},
   "outputs": [],
   "source": [
    "def get_input_val_test(df):\n",
    "    length = len(df)\n",
    "    input_len = math.floor(length*0.7)\n",
    "    val_len  = math.floor(length*0.2)\n",
    "    test_len = math.floor(length*0.1)\n",
    "    input_df = df[:input_len]\n",
    "    val_df = df[input_len:input_len+val_len]\n",
    "    test_df = df[input_len+val_len:]\n",
    "    return input_df,val_df,test_df"
   ]
  },
  {
   "cell_type": "code",
   "execution_count": null,
   "metadata": {},
   "outputs": [],
   "source": [
    "input_cc_types_df = pd.concat([get_input_val_test(df)[0] for df in cc_types_dfs]).sample(frac=1)\n",
    "val_cc_types_df = pd.concat([get_input_val_test(df)[1] for df in cc_types_dfs]).sample(frac=1)\n",
    "test_cc_types_df = pd.concat([get_input_val_test(df)[2] for df in cc_types_dfs]).sample(frac=1)"
   ]
  },
  {
   "cell_type": "code",
   "execution_count": null,
   "metadata": {},
   "outputs": [],
   "source": [
    "max_size = input_cc_types_df.groupby('category').count().max()[0]"
   ]
  },
  {
   "cell_type": "code",
   "execution_count": null,
   "metadata": {},
   "outputs": [],
   "source": [
    "lst = [input_cc_types_df]\n",
    "for class_index, group in input_cc_types_df.groupby('category'):\n",
    "    sample = group.sample(max_size-len(group), replace=True, )\n",
    "    lst.append(sample)\n",
    "upsampled_input_cc_types_df = pd.concat(lst)"
   ]
  },
  {
   "cell_type": "code",
   "execution_count": null,
   "metadata": {},
   "outputs": [],
   "source": [
    "cc_input_df = upsampled_input_cc_types_df.drop('category',axis=1)\n",
    "cc_val_df = val_cc_types_df.drop('category',axis=1).drop_duplicates()\n",
    "cc_test_df = test_cc_types_df.drop('category',axis=1).drop_duplicates()"
   ]
  },
  {
   "cell_type": "code",
   "execution_count": null,
   "metadata": {},
   "outputs": [],
   "source": [
    "cc_input_data = pad_sequences(tokenizer.texts_to_sequences(cc_input_df.clue.tolist()),maxlen=15)\n",
    "cc_val_data = pad_sequences(tokenizer.texts_to_sequences(cc_val_df.clue.tolist()),maxlen=15)\n",
    "cc_test_data = pad_sequences(tokenizer.texts_to_sequences(cc_test_df.clue.tolist()),maxlen=15)"
   ]
  },
  {
   "cell_type": "code",
   "execution_count": null,
   "metadata": {},
   "outputs": [],
   "source": [
    "cc_input_data_out = cc_input_df[cc_input_df.columns[2:]] * 1\n",
    "cc_val_data_out = cc_val_df[cc_val_df.columns[2:]] * 1\n",
    "cc_test_data_out = cc_test_df[cc_test_df.columns[2:]] * 1"
   ]
  },
  {
   "cell_type": "code",
   "execution_count": null,
   "metadata": {},
   "outputs": [],
   "source": [
    "model = keras.Sequential()\n",
    "model.add(Embedding(len(tokenizer.index_word)+1, 128))\n",
    "model.add(LSTM(128, dropout=0.2, recurrent_dropout=0.2))\n",
    "model.add(Dense(14, activation='sigmoid'))"
   ]
  },
  {
   "cell_type": "code",
   "execution_count": null,
   "metadata": {},
   "outputs": [],
   "source": [
    "model.compile(loss='binary_crossentropy', optimizer='rmsprop', metrics=['categorical_accuracy'])"
   ]
  },
  {
   "cell_type": "code",
   "execution_count": null,
   "metadata": {},
   "outputs": [],
   "source": [
    "model.summary()"
   ]
  },
  {
   "cell_type": "code",
   "execution_count": 40,
   "metadata": {
    "scrolled": false
   },
   "outputs": [
    {
     "name": "stdout",
     "output_type": "stream",
     "text": [
      "Train on 81024 samples, validate on 1129 samples\n",
      "Epoch 1/10\n",
      "  832/81024 [..............................] - ETA: 4:03 - loss: 0.3199 - categorical_accuracy: 0.0793"
     ]
    },
    {
     "ename": "KeyboardInterrupt",
     "evalue": "",
     "output_type": "error",
     "traceback": [
      "\u001b[0;31m---------------------------------------------------------------------------\u001b[0m",
      "\u001b[0;31mKeyboardInterrupt\u001b[0m                         Traceback (most recent call last)",
      "\u001b[0;32m<ipython-input-40-e0117c6c6c10>\u001b[0m in \u001b[0;36m<module>\u001b[0;34m()\u001b[0m\n\u001b[0;32m----> 1\u001b[0;31m \u001b[0mhistory\u001b[0m \u001b[0;34m=\u001b[0m \u001b[0mmodel\u001b[0m\u001b[0;34m.\u001b[0m\u001b[0mfit\u001b[0m\u001b[0;34m(\u001b[0m\u001b[0mcc_input_data\u001b[0m\u001b[0;34m,\u001b[0m\u001b[0mcc_input_data_out\u001b[0m \u001b[0;34m,\u001b[0m\u001b[0mvalidation_data\u001b[0m\u001b[0;34m=\u001b[0m\u001b[0;34m(\u001b[0m\u001b[0mcc_val_data\u001b[0m\u001b[0;34m,\u001b[0m\u001b[0mcc_val_data_out\u001b[0m\u001b[0;34m)\u001b[0m\u001b[0;34m,\u001b[0m \u001b[0mbatch_size\u001b[0m\u001b[0;34m=\u001b[0m\u001b[0;36m32\u001b[0m\u001b[0;34m,\u001b[0m \u001b[0mepochs\u001b[0m\u001b[0;34m=\u001b[0m\u001b[0;36m10\u001b[0m\u001b[0;34m)\u001b[0m\u001b[0;34m\u001b[0m\u001b[0m\n\u001b[0m",
      "\u001b[0;32m/anaconda3/lib/python3.6/site-packages/keras/engine/training.py\u001b[0m in \u001b[0;36mfit\u001b[0;34m(self, x, y, batch_size, epochs, verbose, callbacks, validation_split, validation_data, shuffle, class_weight, sample_weight, initial_epoch, steps_per_epoch, validation_steps, **kwargs)\u001b[0m\n\u001b[1;32m   1035\u001b[0m                                         \u001b[0minitial_epoch\u001b[0m\u001b[0;34m=\u001b[0m\u001b[0minitial_epoch\u001b[0m\u001b[0;34m,\u001b[0m\u001b[0;34m\u001b[0m\u001b[0m\n\u001b[1;32m   1036\u001b[0m                                         \u001b[0msteps_per_epoch\u001b[0m\u001b[0;34m=\u001b[0m\u001b[0msteps_per_epoch\u001b[0m\u001b[0;34m,\u001b[0m\u001b[0;34m\u001b[0m\u001b[0m\n\u001b[0;32m-> 1037\u001b[0;31m                                         validation_steps=validation_steps)\n\u001b[0m\u001b[1;32m   1038\u001b[0m \u001b[0;34m\u001b[0m\u001b[0m\n\u001b[1;32m   1039\u001b[0m     def evaluate(self, x=None, y=None,\n",
      "\u001b[0;32m/anaconda3/lib/python3.6/site-packages/keras/engine/training_arrays.py\u001b[0m in \u001b[0;36mfit_loop\u001b[0;34m(model, f, ins, out_labels, batch_size, epochs, verbose, callbacks, val_f, val_ins, shuffle, callback_metrics, initial_epoch, steps_per_epoch, validation_steps)\u001b[0m\n\u001b[1;32m    197\u001b[0m                     \u001b[0mins_batch\u001b[0m\u001b[0;34m[\u001b[0m\u001b[0mi\u001b[0m\u001b[0;34m]\u001b[0m \u001b[0;34m=\u001b[0m \u001b[0mins_batch\u001b[0m\u001b[0;34m[\u001b[0m\u001b[0mi\u001b[0m\u001b[0;34m]\u001b[0m\u001b[0;34m.\u001b[0m\u001b[0mtoarray\u001b[0m\u001b[0;34m(\u001b[0m\u001b[0;34m)\u001b[0m\u001b[0;34m\u001b[0m\u001b[0m\n\u001b[1;32m    198\u001b[0m \u001b[0;34m\u001b[0m\u001b[0m\n\u001b[0;32m--> 199\u001b[0;31m                 \u001b[0mouts\u001b[0m \u001b[0;34m=\u001b[0m \u001b[0mf\u001b[0m\u001b[0;34m(\u001b[0m\u001b[0mins_batch\u001b[0m\u001b[0;34m)\u001b[0m\u001b[0;34m\u001b[0m\u001b[0m\n\u001b[0m\u001b[1;32m    200\u001b[0m                 \u001b[0mouts\u001b[0m \u001b[0;34m=\u001b[0m \u001b[0mto_list\u001b[0m\u001b[0;34m(\u001b[0m\u001b[0mouts\u001b[0m\u001b[0;34m)\u001b[0m\u001b[0;34m\u001b[0m\u001b[0m\n\u001b[1;32m    201\u001b[0m                 \u001b[0;32mfor\u001b[0m \u001b[0ml\u001b[0m\u001b[0;34m,\u001b[0m \u001b[0mo\u001b[0m \u001b[0;32min\u001b[0m \u001b[0mzip\u001b[0m\u001b[0;34m(\u001b[0m\u001b[0mout_labels\u001b[0m\u001b[0;34m,\u001b[0m \u001b[0mouts\u001b[0m\u001b[0;34m)\u001b[0m\u001b[0;34m:\u001b[0m\u001b[0;34m\u001b[0m\u001b[0m\n",
      "\u001b[0;32m/anaconda3/lib/python3.6/site-packages/keras/backend/tensorflow_backend.py\u001b[0m in \u001b[0;36m__call__\u001b[0;34m(self, inputs)\u001b[0m\n\u001b[1;32m   2664\u001b[0m                 \u001b[0;32mreturn\u001b[0m \u001b[0mself\u001b[0m\u001b[0;34m.\u001b[0m\u001b[0m_legacy_call\u001b[0m\u001b[0;34m(\u001b[0m\u001b[0minputs\u001b[0m\u001b[0;34m)\u001b[0m\u001b[0;34m\u001b[0m\u001b[0m\n\u001b[1;32m   2665\u001b[0m \u001b[0;34m\u001b[0m\u001b[0m\n\u001b[0;32m-> 2666\u001b[0;31m             \u001b[0;32mreturn\u001b[0m \u001b[0mself\u001b[0m\u001b[0;34m.\u001b[0m\u001b[0m_call\u001b[0m\u001b[0;34m(\u001b[0m\u001b[0minputs\u001b[0m\u001b[0;34m)\u001b[0m\u001b[0;34m\u001b[0m\u001b[0m\n\u001b[0m\u001b[1;32m   2667\u001b[0m         \u001b[0;32melse\u001b[0m\u001b[0;34m:\u001b[0m\u001b[0;34m\u001b[0m\u001b[0m\n\u001b[1;32m   2668\u001b[0m             \u001b[0;32mif\u001b[0m \u001b[0mpy_any\u001b[0m\u001b[0;34m(\u001b[0m\u001b[0mis_tensor\u001b[0m\u001b[0;34m(\u001b[0m\u001b[0mx\u001b[0m\u001b[0;34m)\u001b[0m \u001b[0;32mfor\u001b[0m \u001b[0mx\u001b[0m \u001b[0;32min\u001b[0m \u001b[0minputs\u001b[0m\u001b[0;34m)\u001b[0m\u001b[0;34m:\u001b[0m\u001b[0;34m\u001b[0m\u001b[0m\n",
      "\u001b[0;32m/anaconda3/lib/python3.6/site-packages/keras/backend/tensorflow_backend.py\u001b[0m in \u001b[0;36m_call\u001b[0;34m(self, inputs)\u001b[0m\n\u001b[1;32m   2634\u001b[0m                                 \u001b[0msymbol_vals\u001b[0m\u001b[0;34m,\u001b[0m\u001b[0;34m\u001b[0m\u001b[0m\n\u001b[1;32m   2635\u001b[0m                                 session)\n\u001b[0;32m-> 2636\u001b[0;31m         \u001b[0mfetched\u001b[0m \u001b[0;34m=\u001b[0m \u001b[0mself\u001b[0m\u001b[0;34m.\u001b[0m\u001b[0m_callable_fn\u001b[0m\u001b[0;34m(\u001b[0m\u001b[0;34m*\u001b[0m\u001b[0marray_vals\u001b[0m\u001b[0;34m)\u001b[0m\u001b[0;34m\u001b[0m\u001b[0m\n\u001b[0m\u001b[1;32m   2637\u001b[0m         \u001b[0;32mreturn\u001b[0m \u001b[0mfetched\u001b[0m\u001b[0;34m[\u001b[0m\u001b[0;34m:\u001b[0m\u001b[0mlen\u001b[0m\u001b[0;34m(\u001b[0m\u001b[0mself\u001b[0m\u001b[0;34m.\u001b[0m\u001b[0moutputs\u001b[0m\u001b[0;34m)\u001b[0m\u001b[0;34m]\u001b[0m\u001b[0;34m\u001b[0m\u001b[0m\n\u001b[1;32m   2638\u001b[0m \u001b[0;34m\u001b[0m\u001b[0m\n",
      "\u001b[0;32m/anaconda3/lib/python3.6/site-packages/tensorflow/python/client/session.py\u001b[0m in \u001b[0;36m__call__\u001b[0;34m(self, *args, **kwargs)\u001b[0m\n\u001b[1;32m   1380\u001b[0m           ret = tf_session.TF_SessionRunCallable(\n\u001b[1;32m   1381\u001b[0m               \u001b[0mself\u001b[0m\u001b[0;34m.\u001b[0m\u001b[0m_session\u001b[0m\u001b[0;34m.\u001b[0m\u001b[0m_session\u001b[0m\u001b[0;34m,\u001b[0m \u001b[0mself\u001b[0m\u001b[0;34m.\u001b[0m\u001b[0m_handle\u001b[0m\u001b[0;34m,\u001b[0m \u001b[0margs\u001b[0m\u001b[0;34m,\u001b[0m \u001b[0mstatus\u001b[0m\u001b[0;34m,\u001b[0m\u001b[0;34m\u001b[0m\u001b[0m\n\u001b[0;32m-> 1382\u001b[0;31m               run_metadata_ptr)\n\u001b[0m\u001b[1;32m   1383\u001b[0m         \u001b[0;32mif\u001b[0m \u001b[0mrun_metadata\u001b[0m\u001b[0;34m:\u001b[0m\u001b[0;34m\u001b[0m\u001b[0m\n\u001b[1;32m   1384\u001b[0m           \u001b[0mproto_data\u001b[0m \u001b[0;34m=\u001b[0m \u001b[0mtf_session\u001b[0m\u001b[0;34m.\u001b[0m\u001b[0mTF_GetBuffer\u001b[0m\u001b[0;34m(\u001b[0m\u001b[0mrun_metadata_ptr\u001b[0m\u001b[0;34m)\u001b[0m\u001b[0;34m\u001b[0m\u001b[0m\n",
      "\u001b[0;31mKeyboardInterrupt\u001b[0m: "
     ]
    }
   ],
   "source": [
    "history = model.fit(cc_input_data,cc_input_data_out ,validation_data=(cc_val_data,cc_val_data_out), batch_size=32, epochs=10)"
   ]
  },
  {
   "cell_type": "code",
   "execution_count": null,
   "metadata": {},
   "outputs": [],
   "source": [
    "model.evaluate(x=cc_test_data, y=cc_test_data_out, batch_size=None, verbose=1, sample_weight=None, steps=None)"
   ]
  },
  {
   "cell_type": "code",
   "execution_count": null,
   "metadata": {},
   "outputs": [],
   "source": [
    "model = keras.Sequential()\n",
    "\n",
    "# we start off with an efficient embedding layer which maps\n",
    "# our vocab indices into embedding_dims dimensions\n",
    "model.add(Embedding(len(tokenizer.index_word)+1,50,input_length=15))\n",
    "model.add(Dropout(0.2))\n",
    "\n",
    "# we add a Convolution1D, which will learn filters\n",
    "# word group filters of size filter_length:\n",
    "model.add(Conv1D(64, 10,padding='valid', activation='relu', strides=1))\n",
    "# we use max pooling:\n",
    "model.add(GlobalMaxPooling1D())\n",
    "\n",
    "# We add a vanilla hidden layer:\n",
    "model.add(Dense(250,activation='relu'))\n",
    "model.add(Dropout(0.2))\n",
    "model.add(Dense(14, activation='sigmoid'))"
   ]
  },
  {
   "cell_type": "code",
   "execution_count": null,
   "metadata": {},
   "outputs": [],
   "source": [
    "model.compile(loss='binary_crossentropy', optimizer='rmsprop', metrics=['categorical_accuracy'])"
   ]
  },
  {
   "cell_type": "code",
   "execution_count": null,
   "metadata": {},
   "outputs": [],
   "source": [
    "history = model.fit(cc_input_data,cc_input_data_out ,validation_data=(cc_val_data,cc_val_data_out), batch_size=128, epochs=6)"
   ]
  },
  {
   "cell_type": "code",
   "execution_count": 45,
   "metadata": {},
   "outputs": [],
   "source": [
    "model = keras.Sequential()\n",
    "model.add(Embedding(len(tokenizer.index_word)+1, 128))\n",
    "model.add(Bidirectional(LSTM(128, dropout=0.2, recurrent_dropout=0.2)))\n",
    "model.add(Dense(14, activation='sigmoid'))\n",
    "model.compile(loss='binary_crossentropy', optimizer='rmsprop', metrics=['categorical_accuracy'])"
   ]
  },
  {
   "cell_type": "code",
   "execution_count": 46,
   "metadata": {},
   "outputs": [],
   "source": [
    "filepath=\"1xBilstm-NoCharade-{epoch:02d}-{val_loss:.2f}-{val_categorical_accuracy:.2f}-singlelabel.hdf5\"\n",
    "checkpoint = keras.callbacks.ModelCheckpoint(filepath, monitor='val_loss', verbose=1, save_best_only=False, save_weights_only=False, mode='auto', period=1)\n",
    "callbacks_list = [checkpoint]"
   ]
  },
  {
   "cell_type": "code",
   "execution_count": 50,
   "metadata": {},
   "outputs": [
    {
     "name": "stdout",
     "output_type": "stream",
     "text": [
      "Train on 109707 samples, validate on 1920 samples\n",
      "Epoch 17/32\n",
      "109707/109707 [==============================] - 43s 391us/step - loss: 0.0051 - categorical_accuracy: 0.9882 - val_loss: 0.4923 - val_categorical_accuracy: 0.4208\n",
      "\n",
      "Epoch 00017: saving model to 1xBilstm-NoCharade-17-0.49-0.42-singlelabel.hdf5\n",
      "Epoch 18/32\n",
      "109707/109707 [==============================] - 43s 391us/step - loss: 0.0045 - categorical_accuracy: 0.9896 - val_loss: 0.4844 - val_categorical_accuracy: 0.4547\n",
      "\n",
      "Epoch 00018: saving model to 1xBilstm-NoCharade-18-0.48-0.45-singlelabel.hdf5\n",
      "Epoch 19/32\n",
      "109707/109707 [==============================] - 43s 389us/step - loss: 0.0039 - categorical_accuracy: 0.9909 - val_loss: 0.5138 - val_categorical_accuracy: 0.4609\n",
      "\n",
      "Epoch 00019: saving model to 1xBilstm-NoCharade-19-0.51-0.46-singlelabel.hdf5\n",
      "Epoch 20/32\n",
      "109707/109707 [==============================] - 43s 394us/step - loss: 0.0035 - categorical_accuracy: 0.9919 - val_loss: 0.5176 - val_categorical_accuracy: 0.4495\n",
      "\n",
      "Epoch 00020: saving model to 1xBilstm-NoCharade-20-0.52-0.45-singlelabel.hdf5\n",
      "Epoch 21/32\n",
      "109707/109707 [==============================] - 43s 393us/step - loss: 0.0031 - categorical_accuracy: 0.9928 - val_loss: 0.5170 - val_categorical_accuracy: 0.4464\n",
      "\n",
      "Epoch 00021: saving model to 1xBilstm-NoCharade-21-0.52-0.45-singlelabel.hdf5\n",
      "Epoch 22/32\n",
      "109707/109707 [==============================] - 45s 409us/step - loss: 0.0028 - categorical_accuracy: 0.9940 - val_loss: 0.5476 - val_categorical_accuracy: 0.4375\n",
      "\n",
      "Epoch 00022: saving model to 1xBilstm-NoCharade-22-0.55-0.44-singlelabel.hdf5\n",
      "Epoch 23/32\n",
      "109707/109707 [==============================] - 45s 409us/step - loss: 0.0025 - categorical_accuracy: 0.9947 - val_loss: 0.5612 - val_categorical_accuracy: 0.4380\n",
      "\n",
      "Epoch 00023: saving model to 1xBilstm-NoCharade-23-0.56-0.44-singlelabel.hdf5\n",
      "Epoch 24/32\n",
      "109707/109707 [==============================] - 46s 419us/step - loss: 0.0021 - categorical_accuracy: 0.9956 - val_loss: 0.5770 - val_categorical_accuracy: 0.4318\n",
      "\n",
      "Epoch 00024: saving model to 1xBilstm-NoCharade-24-0.58-0.43-singlelabel.hdf5\n",
      "Epoch 25/32\n",
      "109707/109707 [==============================] - 47s 425us/step - loss: 0.0020 - categorical_accuracy: 0.9959 - val_loss: 0.5777 - val_categorical_accuracy: 0.4245\n",
      "\n",
      "Epoch 00025: saving model to 1xBilstm-NoCharade-25-0.58-0.42-singlelabel.hdf5\n",
      "Epoch 26/32\n",
      "109707/109707 [==============================] - 46s 423us/step - loss: 0.0017 - categorical_accuracy: 0.9965 - val_loss: 0.5673 - val_categorical_accuracy: 0.4594\n",
      "\n",
      "Epoch 00026: saving model to 1xBilstm-NoCharade-26-0.57-0.46-singlelabel.hdf5\n",
      "Epoch 27/32\n",
      "109707/109707 [==============================] - 49s 444us/step - loss: 0.0016 - categorical_accuracy: 0.9970 - val_loss: 0.6112 - val_categorical_accuracy: 0.4557\n",
      "\n",
      "Epoch 00027: saving model to 1xBilstm-NoCharade-27-0.61-0.46-singlelabel.hdf5\n",
      "Epoch 28/32\n",
      "109707/109707 [==============================] - 44s 398us/step - loss: 0.0013 - categorical_accuracy: 0.9974 - val_loss: 0.6017 - val_categorical_accuracy: 0.4635\n",
      "\n",
      "Epoch 00028: saving model to 1xBilstm-NoCharade-28-0.60-0.46-singlelabel.hdf5\n",
      "Epoch 29/32\n",
      "109707/109707 [==============================] - 46s 421us/step - loss: 0.0012 - categorical_accuracy: 0.9978 - val_loss: 0.6143 - val_categorical_accuracy: 0.4521\n",
      "\n",
      "Epoch 00029: saving model to 1xBilstm-NoCharade-29-0.61-0.45-singlelabel.hdf5\n",
      "Epoch 30/32\n",
      "109707/109707 [==============================] - 45s 408us/step - loss: 0.0010 - categorical_accuracy: 0.9981 - val_loss: 0.6170 - val_categorical_accuracy: 0.4724\n",
      "\n",
      "Epoch 00030: saving model to 1xBilstm-NoCharade-30-0.62-0.47-singlelabel.hdf5\n",
      "Epoch 31/32\n",
      "109707/109707 [==============================] - 45s 412us/step - loss: 8.8390e-04 - categorical_accuracy: 0.9983 - val_loss: 0.6547 - val_categorical_accuracy: 0.4474\n",
      "\n",
      "Epoch 00031: saving model to 1xBilstm-NoCharade-31-0.65-0.45-singlelabel.hdf5\n",
      "Epoch 32/32\n",
      "109707/109707 [==============================] - 44s 405us/step - loss: 8.6248e-04 - categorical_accuracy: 0.9985 - val_loss: 0.6555 - val_categorical_accuracy: 0.4505\n",
      "\n",
      "Epoch 00032: saving model to 1xBilstm-NoCharade-32-0.66-0.45-singlelabel.hdf5\n"
     ]
    }
   ],
   "source": [
    "history = model.fit(cc_input_data,cc_input_data_out ,validation_data=(cc_val_data,cc_val_data_out), batch_size=128, epochs=32, callbacks=callbacks_list,initial_epoch=16)"
   ]
  },
  {
   "cell_type": "code",
   "execution_count": 100,
   "metadata": {},
   "outputs": [],
   "source": [
    "model = keras.Sequential()\n",
    "model.add(Embedding(len(tokenizer.index_word)+1, 256))\n",
    "model.add(Bidirectional(LSTM(256, dropout=0.5, recurrent_dropout=0.5)))\n",
    "model.add(Dense(14, activation='sigmoid'))\n",
    "model.compile(loss='binary_crossentropy', optimizer='rmsprop', metrics=['categorical_accuracy'])"
   ]
  },
  {
   "cell_type": "code",
   "execution_count": 103,
   "metadata": {},
   "outputs": [],
   "source": [
    "filepath=\"1xBilstm-NoCharade-NoAnagram-{epoch:02d}-{val_loss:.2f}-{val_categorical_accuracy:.2f}-singlelabel.hdf5\"\n",
    "checkpoint = keras.callbacks.ModelCheckpoint(filepath, monitor='val_loss', verbose=1, save_best_only=False, save_weights_only=False, mode='auto', period=1)\n",
    "callbacks_list = [checkpoint]"
   ]
  },
  {
   "cell_type": "code",
   "execution_count": 104,
   "metadata": {},
   "outputs": [
    {
     "name": "stdout",
     "output_type": "stream",
     "text": [
      "Train on 81024 samples, validate on 1129 samples\n",
      "Epoch 1/64\n",
      "81024/81024 [==============================] - 52s 639us/step - loss: 0.1415 - categorical_accuracy: 0.5361 - val_loss: 0.2027 - val_categorical_accuracy: 0.4686\n",
      "\n",
      "Epoch 00001: saving model to 1xBilstm-NoCharade-NoAnagram-01-0.20-0.47-singlelabel.hdf5\n",
      "Epoch 2/64\n",
      "81024/81024 [==============================] - 51s 627us/step - loss: 0.0619 - categorical_accuracy: 0.8213 - val_loss: 0.2319 - val_categorical_accuracy: 0.5270\n",
      "\n",
      "Epoch 00002: saving model to 1xBilstm-NoCharade-NoAnagram-02-0.23-0.53-singlelabel.hdf5\n",
      "Epoch 3/64\n",
      "81024/81024 [==============================] - 51s 624us/step - loss: 0.0395 - categorical_accuracy: 0.8920 - val_loss: 0.2615 - val_categorical_accuracy: 0.5146\n",
      "\n",
      "Epoch 00003: saving model to 1xBilstm-NoCharade-NoAnagram-03-0.26-0.51-singlelabel.hdf5\n",
      "Epoch 4/64\n",
      "81024/81024 [==============================] - 51s 624us/step - loss: 0.0288 - categorical_accuracy: 0.9245 - val_loss: 0.3093 - val_categorical_accuracy: 0.4898\n",
      "\n",
      "Epoch 00004: saving model to 1xBilstm-NoCharade-NoAnagram-04-0.31-0.49-singlelabel.hdf5\n",
      "Epoch 5/64\n",
      "81024/81024 [==============================] - 50s 620us/step - loss: 0.0223 - categorical_accuracy: 0.9417 - val_loss: 0.3560 - val_categorical_accuracy: 0.4579\n",
      "\n",
      "Epoch 00005: saving model to 1xBilstm-NoCharade-NoAnagram-05-0.36-0.46-singlelabel.hdf5\n",
      "Epoch 6/64\n",
      "81024/81024 [==============================] - 51s 635us/step - loss: 0.0182 - categorical_accuracy: 0.9537 - val_loss: 0.4028 - val_categorical_accuracy: 0.4216\n",
      "\n",
      "Epoch 00006: saving model to 1xBilstm-NoCharade-NoAnagram-06-0.40-0.42-singlelabel.hdf5\n",
      "Epoch 7/64\n",
      "81024/81024 [==============================] - 52s 638us/step - loss: 0.0151 - categorical_accuracy: 0.9614 - val_loss: 0.4318 - val_categorical_accuracy: 0.4163\n",
      "\n",
      "Epoch 00007: saving model to 1xBilstm-NoCharade-NoAnagram-07-0.43-0.42-singlelabel.hdf5\n",
      "Epoch 8/64\n",
      "81024/81024 [==============================] - 52s 636us/step - loss: 0.0126 - categorical_accuracy: 0.9681 - val_loss: 0.4599 - val_categorical_accuracy: 0.3942\n",
      "\n",
      "Epoch 00008: saving model to 1xBilstm-NoCharade-NoAnagram-08-0.46-0.39-singlelabel.hdf5\n",
      "Epoch 9/64\n",
      "81024/81024 [==============================] - 52s 637us/step - loss: 0.0108 - categorical_accuracy: 0.9729 - val_loss: 0.5065 - val_categorical_accuracy: 0.3738\n",
      "\n",
      "Epoch 00009: saving model to 1xBilstm-NoCharade-NoAnagram-09-0.51-0.37-singlelabel.hdf5\n",
      "Epoch 10/64\n",
      "81024/81024 [==============================] - 51s 633us/step - loss: 0.0094 - categorical_accuracy: 0.9771 - val_loss: 0.5336 - val_categorical_accuracy: 0.3508\n",
      "\n",
      "Epoch 00010: saving model to 1xBilstm-NoCharade-NoAnagram-10-0.53-0.35-singlelabel.hdf5\n",
      "Epoch 11/64\n",
      "81024/81024 [==============================] - 52s 636us/step - loss: 0.0082 - categorical_accuracy: 0.9802 - val_loss: 0.5454 - val_categorical_accuracy: 0.3605\n",
      "\n",
      "Epoch 00011: saving model to 1xBilstm-NoCharade-NoAnagram-11-0.55-0.36-singlelabel.hdf5\n",
      "Epoch 12/64\n",
      "81024/81024 [==============================] - 52s 638us/step - loss: 0.0072 - categorical_accuracy: 0.9833 - val_loss: 0.5662 - val_categorical_accuracy: 0.3578\n",
      "\n",
      "Epoch 00012: saving model to 1xBilstm-NoCharade-NoAnagram-12-0.57-0.36-singlelabel.hdf5\n",
      "Epoch 13/64\n",
      "81024/81024 [==============================] - 52s 636us/step - loss: 0.0063 - categorical_accuracy: 0.9853 - val_loss: 0.6078 - val_categorical_accuracy: 0.3561\n",
      "\n",
      "Epoch 00013: saving model to 1xBilstm-NoCharade-NoAnagram-13-0.61-0.36-singlelabel.hdf5\n",
      "Epoch 14/64\n",
      "81024/81024 [==============================] - 51s 631us/step - loss: 0.0054 - categorical_accuracy: 0.9872 - val_loss: 0.6329 - val_categorical_accuracy: 0.3313\n",
      "\n",
      "Epoch 00014: saving model to 1xBilstm-NoCharade-NoAnagram-14-0.63-0.33-singlelabel.hdf5\n",
      "Epoch 15/64\n",
      "81024/81024 [==============================] - 53s 652us/step - loss: 0.0049 - categorical_accuracy: 0.9888 - val_loss: 0.6131 - val_categorical_accuracy: 0.3614\n",
      "\n",
      "Epoch 00015: saving model to 1xBilstm-NoCharade-NoAnagram-15-0.61-0.36-singlelabel.hdf5\n",
      "Epoch 16/64\n",
      "81024/81024 [==============================] - 52s 639us/step - loss: 0.0044 - categorical_accuracy: 0.9897 - val_loss: 0.6474 - val_categorical_accuracy: 0.3304\n",
      "\n",
      "Epoch 00016: saving model to 1xBilstm-NoCharade-NoAnagram-16-0.65-0.33-singlelabel.hdf5\n",
      "Epoch 17/64\n",
      "81024/81024 [==============================] - 52s 639us/step - loss: 0.0038 - categorical_accuracy: 0.9913 - val_loss: 0.6615 - val_categorical_accuracy: 0.3419\n",
      "\n",
      "Epoch 00017: saving model to 1xBilstm-NoCharade-NoAnagram-17-0.66-0.34-singlelabel.hdf5\n",
      "Epoch 18/64\n",
      "81024/81024 [==============================] - 52s 641us/step - loss: 0.0035 - categorical_accuracy: 0.9924 - val_loss: 0.7071 - val_categorical_accuracy: 0.3339\n",
      "\n",
      "Epoch 00018: saving model to 1xBilstm-NoCharade-NoAnagram-18-0.71-0.33-singlelabel.hdf5\n",
      "Epoch 19/64\n",
      "81024/81024 [==============================] - 52s 637us/step - loss: 0.0029 - categorical_accuracy: 0.9936 - val_loss: 0.7092 - val_categorical_accuracy: 0.3454\n",
      "\n",
      "Epoch 00019: saving model to 1xBilstm-NoCharade-NoAnagram-19-0.71-0.35-singlelabel.hdf5\n",
      "Epoch 20/64\n",
      "81024/81024 [==============================] - 51s 625us/step - loss: 0.0025 - categorical_accuracy: 0.9946 - val_loss: 0.7610 - val_categorical_accuracy: 0.3268\n",
      "\n",
      "Epoch 00020: saving model to 1xBilstm-NoCharade-NoAnagram-20-0.76-0.33-singlelabel.hdf5\n",
      "Epoch 21/64\n",
      "81024/81024 [==============================] - 51s 633us/step - loss: 0.0023 - categorical_accuracy: 0.9953 - val_loss: 0.7701 - val_categorical_accuracy: 0.3295\n",
      "\n",
      "Epoch 00021: saving model to 1xBilstm-NoCharade-NoAnagram-21-0.77-0.33-singlelabel.hdf5\n",
      "Epoch 22/64\n",
      "81024/81024 [==============================] - 51s 628us/step - loss: 0.0019 - categorical_accuracy: 0.9959 - val_loss: 0.7835 - val_categorical_accuracy: 0.3384\n",
      "\n",
      "Epoch 00022: saving model to 1xBilstm-NoCharade-NoAnagram-22-0.78-0.34-singlelabel.hdf5\n",
      "Epoch 23/64\n",
      "81024/81024 [==============================] - 51s 628us/step - loss: 0.0018 - categorical_accuracy: 0.9964 - val_loss: 0.7871 - val_categorical_accuracy: 0.3366\n",
      "\n",
      "Epoch 00023: saving model to 1xBilstm-NoCharade-NoAnagram-23-0.79-0.34-singlelabel.hdf5\n",
      "Epoch 24/64\n",
      "81024/81024 [==============================] - 51s 625us/step - loss: 0.0015 - categorical_accuracy: 0.9970 - val_loss: 0.8058 - val_categorical_accuracy: 0.3322\n",
      "\n",
      "Epoch 00024: saving model to 1xBilstm-NoCharade-NoAnagram-24-0.81-0.33-singlelabel.hdf5\n",
      "Epoch 25/64\n",
      "81024/81024 [==============================] - 50s 622us/step - loss: 0.0014 - categorical_accuracy: 0.9972 - val_loss: 0.8328 - val_categorical_accuracy: 0.3304\n",
      "\n",
      "Epoch 00025: saving model to 1xBilstm-NoCharade-NoAnagram-25-0.83-0.33-singlelabel.hdf5\n",
      "Epoch 26/64\n",
      "81024/81024 [==============================] - 51s 624us/step - loss: 0.0012 - categorical_accuracy: 0.9978 - val_loss: 0.8621 - val_categorical_accuracy: 0.3198\n",
      "\n",
      "Epoch 00026: saving model to 1xBilstm-NoCharade-NoAnagram-26-0.86-0.32-singlelabel.hdf5\n",
      "Epoch 27/64\n",
      "81024/81024 [==============================] - 51s 624us/step - loss: 0.0011 - categorical_accuracy: 0.9980 - val_loss: 0.8392 - val_categorical_accuracy: 0.3401\n",
      "\n",
      "Epoch 00027: saving model to 1xBilstm-NoCharade-NoAnagram-27-0.84-0.34-singlelabel.hdf5\n",
      "Epoch 28/64\n",
      "81024/81024 [==============================] - 51s 628us/step - loss: 8.5388e-04 - categorical_accuracy: 0.9985 - val_loss: 0.8812 - val_categorical_accuracy: 0.3127\n",
      "\n",
      "Epoch 00028: saving model to 1xBilstm-NoCharade-NoAnagram-28-0.88-0.31-singlelabel.hdf5\n",
      "Epoch 29/64\n",
      "81024/81024 [==============================] - 52s 644us/step - loss: 8.1824e-04 - categorical_accuracy: 0.9984 - val_loss: 0.9024 - val_categorical_accuracy: 0.3215\n",
      "\n",
      "Epoch 00029: saving model to 1xBilstm-NoCharade-NoAnagram-29-0.90-0.32-singlelabel.hdf5\n",
      "Epoch 30/64\n",
      "81024/81024 [==============================] - 52s 647us/step - loss: 7.1978e-04 - categorical_accuracy: 0.9986 - val_loss: 0.9315 - val_categorical_accuracy: 0.3153\n",
      "\n",
      "Epoch 00030: saving model to 1xBilstm-NoCharade-NoAnagram-30-0.93-0.32-singlelabel.hdf5\n",
      "Epoch 31/64\n",
      "28032/81024 [=========>....................] - ETA: 34s - loss: 6.2786e-04 - categorical_accuracy: 0.9988"
     ]
    },
    {
     "ename": "KeyboardInterrupt",
     "evalue": "",
     "output_type": "error",
     "traceback": [
      "\u001b[1;31m---------------------------------------------------------------------------\u001b[0m",
      "\u001b[1;31mKeyboardInterrupt\u001b[0m                         Traceback (most recent call last)",
      "\u001b[1;32m<ipython-input-104-315f5b8f8b61>\u001b[0m in \u001b[0;36m<module>\u001b[1;34m()\u001b[0m\n\u001b[1;32m----> 1\u001b[1;33m \u001b[0mhistory\u001b[0m \u001b[1;33m=\u001b[0m \u001b[0mmodel\u001b[0m\u001b[1;33m.\u001b[0m\u001b[0mfit\u001b[0m\u001b[1;33m(\u001b[0m\u001b[0mcc_input_data\u001b[0m\u001b[1;33m,\u001b[0m\u001b[0mcc_input_data_out\u001b[0m \u001b[1;33m,\u001b[0m\u001b[0mvalidation_data\u001b[0m\u001b[1;33m=\u001b[0m\u001b[1;33m(\u001b[0m\u001b[0mcc_val_data\u001b[0m\u001b[1;33m,\u001b[0m\u001b[0mcc_val_data_out\u001b[0m\u001b[1;33m)\u001b[0m\u001b[1;33m,\u001b[0m \u001b[0mbatch_size\u001b[0m\u001b[1;33m=\u001b[0m\u001b[1;36m128\u001b[0m\u001b[1;33m,\u001b[0m \u001b[0mepochs\u001b[0m\u001b[1;33m=\u001b[0m\u001b[1;36m64\u001b[0m\u001b[1;33m,\u001b[0m \u001b[0mcallbacks\u001b[0m\u001b[1;33m=\u001b[0m\u001b[0mcallbacks_list\u001b[0m\u001b[1;33m,\u001b[0m\u001b[0minitial_epoch\u001b[0m\u001b[1;33m=\u001b[0m\u001b[1;36m0\u001b[0m\u001b[1;33m)\u001b[0m\u001b[1;33m\u001b[0m\u001b[0m\n\u001b[0m",
      "\u001b[1;32m~\\Anaconda3\\lib\\site-packages\\keras\\engine\\training.py\u001b[0m in \u001b[0;36mfit\u001b[1;34m(self, x, y, batch_size, epochs, verbose, callbacks, validation_split, validation_data, shuffle, class_weight, sample_weight, initial_epoch, steps_per_epoch, validation_steps, **kwargs)\u001b[0m\n\u001b[0;32m   1035\u001b[0m                                         \u001b[0minitial_epoch\u001b[0m\u001b[1;33m=\u001b[0m\u001b[0minitial_epoch\u001b[0m\u001b[1;33m,\u001b[0m\u001b[1;33m\u001b[0m\u001b[0m\n\u001b[0;32m   1036\u001b[0m                                         \u001b[0msteps_per_epoch\u001b[0m\u001b[1;33m=\u001b[0m\u001b[0msteps_per_epoch\u001b[0m\u001b[1;33m,\u001b[0m\u001b[1;33m\u001b[0m\u001b[0m\n\u001b[1;32m-> 1037\u001b[1;33m                                         validation_steps=validation_steps)\n\u001b[0m\u001b[0;32m   1038\u001b[0m \u001b[1;33m\u001b[0m\u001b[0m\n\u001b[0;32m   1039\u001b[0m     def evaluate(self, x=None, y=None,\n",
      "\u001b[1;32m~\\Anaconda3\\lib\\site-packages\\keras\\engine\\training_arrays.py\u001b[0m in \u001b[0;36mfit_loop\u001b[1;34m(model, f, ins, out_labels, batch_size, epochs, verbose, callbacks, val_f, val_ins, shuffle, callback_metrics, initial_epoch, steps_per_epoch, validation_steps)\u001b[0m\n\u001b[0;32m    197\u001b[0m                     \u001b[0mins_batch\u001b[0m\u001b[1;33m[\u001b[0m\u001b[0mi\u001b[0m\u001b[1;33m]\u001b[0m \u001b[1;33m=\u001b[0m \u001b[0mins_batch\u001b[0m\u001b[1;33m[\u001b[0m\u001b[0mi\u001b[0m\u001b[1;33m]\u001b[0m\u001b[1;33m.\u001b[0m\u001b[0mtoarray\u001b[0m\u001b[1;33m(\u001b[0m\u001b[1;33m)\u001b[0m\u001b[1;33m\u001b[0m\u001b[0m\n\u001b[0;32m    198\u001b[0m \u001b[1;33m\u001b[0m\u001b[0m\n\u001b[1;32m--> 199\u001b[1;33m                 \u001b[0mouts\u001b[0m \u001b[1;33m=\u001b[0m \u001b[0mf\u001b[0m\u001b[1;33m(\u001b[0m\u001b[0mins_batch\u001b[0m\u001b[1;33m)\u001b[0m\u001b[1;33m\u001b[0m\u001b[0m\n\u001b[0m\u001b[0;32m    200\u001b[0m                 \u001b[0mouts\u001b[0m \u001b[1;33m=\u001b[0m \u001b[0mto_list\u001b[0m\u001b[1;33m(\u001b[0m\u001b[0mouts\u001b[0m\u001b[1;33m)\u001b[0m\u001b[1;33m\u001b[0m\u001b[0m\n\u001b[0;32m    201\u001b[0m                 \u001b[1;32mfor\u001b[0m \u001b[0ml\u001b[0m\u001b[1;33m,\u001b[0m \u001b[0mo\u001b[0m \u001b[1;32min\u001b[0m \u001b[0mzip\u001b[0m\u001b[1;33m(\u001b[0m\u001b[0mout_labels\u001b[0m\u001b[1;33m,\u001b[0m \u001b[0mouts\u001b[0m\u001b[1;33m)\u001b[0m\u001b[1;33m:\u001b[0m\u001b[1;33m\u001b[0m\u001b[0m\n",
      "\u001b[1;32m~\\Anaconda3\\lib\\site-packages\\keras\\backend\\tensorflow_backend.py\u001b[0m in \u001b[0;36m__call__\u001b[1;34m(self, inputs)\u001b[0m\n\u001b[0;32m   2664\u001b[0m                 \u001b[1;32mreturn\u001b[0m \u001b[0mself\u001b[0m\u001b[1;33m.\u001b[0m\u001b[0m_legacy_call\u001b[0m\u001b[1;33m(\u001b[0m\u001b[0minputs\u001b[0m\u001b[1;33m)\u001b[0m\u001b[1;33m\u001b[0m\u001b[0m\n\u001b[0;32m   2665\u001b[0m \u001b[1;33m\u001b[0m\u001b[0m\n\u001b[1;32m-> 2666\u001b[1;33m             \u001b[1;32mreturn\u001b[0m \u001b[0mself\u001b[0m\u001b[1;33m.\u001b[0m\u001b[0m_call\u001b[0m\u001b[1;33m(\u001b[0m\u001b[0minputs\u001b[0m\u001b[1;33m)\u001b[0m\u001b[1;33m\u001b[0m\u001b[0m\n\u001b[0m\u001b[0;32m   2667\u001b[0m         \u001b[1;32melse\u001b[0m\u001b[1;33m:\u001b[0m\u001b[1;33m\u001b[0m\u001b[0m\n\u001b[0;32m   2668\u001b[0m             \u001b[1;32mif\u001b[0m \u001b[0mpy_any\u001b[0m\u001b[1;33m(\u001b[0m\u001b[0mis_tensor\u001b[0m\u001b[1;33m(\u001b[0m\u001b[0mx\u001b[0m\u001b[1;33m)\u001b[0m \u001b[1;32mfor\u001b[0m \u001b[0mx\u001b[0m \u001b[1;32min\u001b[0m \u001b[0minputs\u001b[0m\u001b[1;33m)\u001b[0m\u001b[1;33m:\u001b[0m\u001b[1;33m\u001b[0m\u001b[0m\n",
      "\u001b[1;32m~\\Anaconda3\\lib\\site-packages\\keras\\backend\\tensorflow_backend.py\u001b[0m in \u001b[0;36m_call\u001b[1;34m(self, inputs)\u001b[0m\n\u001b[0;32m   2634\u001b[0m                                 \u001b[0msymbol_vals\u001b[0m\u001b[1;33m,\u001b[0m\u001b[1;33m\u001b[0m\u001b[0m\n\u001b[0;32m   2635\u001b[0m                                 session)\n\u001b[1;32m-> 2636\u001b[1;33m         \u001b[0mfetched\u001b[0m \u001b[1;33m=\u001b[0m \u001b[0mself\u001b[0m\u001b[1;33m.\u001b[0m\u001b[0m_callable_fn\u001b[0m\u001b[1;33m(\u001b[0m\u001b[1;33m*\u001b[0m\u001b[0marray_vals\u001b[0m\u001b[1;33m)\u001b[0m\u001b[1;33m\u001b[0m\u001b[0m\n\u001b[0m\u001b[0;32m   2637\u001b[0m         \u001b[1;32mreturn\u001b[0m \u001b[0mfetched\u001b[0m\u001b[1;33m[\u001b[0m\u001b[1;33m:\u001b[0m\u001b[0mlen\u001b[0m\u001b[1;33m(\u001b[0m\u001b[0mself\u001b[0m\u001b[1;33m.\u001b[0m\u001b[0moutputs\u001b[0m\u001b[1;33m)\u001b[0m\u001b[1;33m]\u001b[0m\u001b[1;33m\u001b[0m\u001b[0m\n\u001b[0;32m   2638\u001b[0m \u001b[1;33m\u001b[0m\u001b[0m\n",
      "\u001b[1;32m~\\Anaconda3\\lib\\site-packages\\tensorflow\\python\\client\\session.py\u001b[0m in \u001b[0;36m__call__\u001b[1;34m(self, *args)\u001b[0m\n\u001b[0;32m   1449\u001b[0m         \u001b[1;32mif\u001b[0m \u001b[0mself\u001b[0m\u001b[1;33m.\u001b[0m\u001b[0m_session\u001b[0m\u001b[1;33m.\u001b[0m\u001b[0m_created_with_new_api\u001b[0m\u001b[1;33m:\u001b[0m\u001b[1;33m\u001b[0m\u001b[0m\n\u001b[0;32m   1450\u001b[0m           return tf_session.TF_SessionRunCallable(\n\u001b[1;32m-> 1451\u001b[1;33m               self._session._session, self._handle, args, status, None)\n\u001b[0m\u001b[0;32m   1452\u001b[0m         \u001b[1;32melse\u001b[0m\u001b[1;33m:\u001b[0m\u001b[1;33m\u001b[0m\u001b[0m\n\u001b[0;32m   1453\u001b[0m           return tf_session.TF_DeprecatedSessionRunCallable(\n",
      "\u001b[1;31mKeyboardInterrupt\u001b[0m: "
     ]
    }
   ],
   "source": [
    "history = model.fit(cc_input_data,cc_input_data_out ,validation_data=(cc_val_data,cc_val_data_out), batch_size=128, epochs=64, callbacks=callbacks_list,initial_epoch=0)"
   ]
  },
  {
   "cell_type": "code",
   "execution_count": 105,
   "metadata": {},
   "outputs": [],
   "source": [
    "model.load_weights(\"1xBilstm-NoCharade-NoAnagram-02-0.23-0.53-singlelabel.hdf5\")"
   ]
  },
  {
   "cell_type": "code",
   "execution_count": 107,
   "metadata": {},
   "outputs": [
    {
     "name": "stdout",
     "output_type": "stream",
     "text": [
      "283/283 [==============================] - 0s 516us/step\n"
     ]
    },
    {
     "data": {
      "text/plain": [
       "[0.18320684371904433, 0.5441696138348259]"
      ]
     },
     "execution_count": 107,
     "metadata": {},
     "output_type": "execute_result"
    }
   ],
   "source": [
    "model.evaluate(cc_test_data,cc_test_data_out)"
   ]
  },
  {
   "cell_type": "code",
   "execution_count": 63,
   "metadata": {},
   "outputs": [
    {
     "name": "stdout",
     "output_type": "stream",
     "text": [
      "393/393 [==============================] - 0s 379us/step\n"
     ]
    },
    {
     "data": {
      "text/plain": [
       "[0.23111816057722076, 0.541984733127759]"
      ]
     },
     "execution_count": 63,
     "metadata": {},
     "output_type": "execute_result"
    }
   ],
   "source": [
    "model.evaluate(cc_test_data,cc_test_data_out)"
   ]
  },
  {
   "cell_type": "code",
   "execution_count": 108,
   "metadata": {},
   "outputs": [],
   "source": [
    "pred = model.predict_classes(cc_val_data)"
   ]
  },
  {
   "cell_type": "code",
   "execution_count": 109,
   "metadata": {},
   "outputs": [],
   "source": [
    "from sklearn.metrics import confusion_matrix"
   ]
  },
  {
   "cell_type": "code",
   "execution_count": 110,
   "metadata": {},
   "outputs": [],
   "source": [
    "import numpy as np"
   ]
  },
  {
   "cell_type": "code",
   "execution_count": 111,
   "metadata": {},
   "outputs": [],
   "source": [
    "matrix = cc_val_data_out.astype(int).as_matrix()"
   ]
  },
  {
   "cell_type": "code",
   "execution_count": 112,
   "metadata": {},
   "outputs": [],
   "source": [
    "pred_actual = [np.where(r==1)[0][0] for r in matrix]"
   ]
  },
  {
   "cell_type": "code",
   "execution_count": 113,
   "metadata": {},
   "outputs": [],
   "source": [
    "cnf_matrix = confusion_matrix(pred,pred_actual)"
   ]
  },
  {
   "cell_type": "code",
   "execution_count": 114,
   "metadata": {},
   "outputs": [
    {
     "name": "stdout",
     "output_type": "stream",
     "text": [
      "Automatically created module for IPython interactive environment\n",
      "Confusion matrix, without normalization\n",
      "[[138   4  10   1   1   0   3   6   1   3   0   1]\n",
      " [  1   5   9   0   1   0   0   1   2   3   0   0]\n",
      " [ 14  52 164   1   8   0   9  17  10  36   0   1]\n",
      " [  2   2  10  38   9   0   8   5   3  15   0   0]\n",
      " [  2   4  10   1  76   0   2   8   4   9   0   4]\n",
      " [  1   1   5   0   1   5   2   3   1   2   0   0]\n",
      " [  0   1   1   2   2   0  31   6   0   2   0   1]\n",
      " [ 13  11  22  13  13   0  40  36   6  31   1   0]\n",
      " [  0   0   4   1   0   0   1   0   0   0   0   0]\n",
      " [  1  17  16   5   4   0   4   2   2  79   0   0]\n",
      " [  0   0   0   0   0   0   0   0   0   0  21   0]\n",
      " [  0   0   1   0   0   0   0   1   1   0   0   2]]\n",
      "Normalized confusion matrix\n",
      "[[0.82 0.02 0.06 0.01 0.01 0.   0.02 0.04 0.01 0.02 0.   0.01]\n",
      " [0.05 0.23 0.41 0.   0.05 0.   0.   0.05 0.09 0.14 0.   0.  ]\n",
      " [0.04 0.17 0.53 0.   0.03 0.   0.03 0.05 0.03 0.12 0.   0.  ]\n",
      " [0.02 0.02 0.11 0.41 0.1  0.   0.09 0.05 0.03 0.16 0.   0.  ]\n",
      " [0.02 0.03 0.08 0.01 0.63 0.   0.02 0.07 0.03 0.07 0.   0.03]\n",
      " [0.05 0.05 0.24 0.   0.05 0.24 0.1  0.14 0.05 0.1  0.   0.  ]\n",
      " [0.   0.02 0.02 0.04 0.04 0.   0.67 0.13 0.   0.04 0.   0.02]\n",
      " [0.07 0.06 0.12 0.07 0.07 0.   0.22 0.19 0.03 0.17 0.01 0.  ]\n",
      " [0.   0.   0.67 0.17 0.   0.   0.17 0.   0.   0.   0.   0.  ]\n",
      " [0.01 0.13 0.12 0.04 0.03 0.   0.03 0.02 0.02 0.61 0.   0.  ]\n",
      " [0.   0.   0.   0.   0.   0.   0.   0.   0.   0.   1.   0.  ]\n",
      " [0.   0.   0.2  0.   0.   0.   0.   0.2  0.2  0.   0.   0.4 ]]\n"
     ]
    },
    {
     "data": {
      "image/png": "[encoded data removed]",
      "text/plain": [
       "<matplotlib.figure.Figure at 0x11f3e91a128>"
      ]
     },
     "metadata": {},
     "output_type": "display_data"
    },
    {
     "data": {
      "image/png": "[encoded data removed]",
      "text/plain": [
       "<matplotlib.figure.Figure at 0x11f3e91a710>"
      ]
     },
     "metadata": {},
     "output_type": "display_data"
    }
   ],
   "source": [
    "print(__doc__)\n",
    "\n",
    "import itertools\n",
    "import numpy as np\n",
    "import matplotlib\n",
    "import matplotlib.pyplot as plt\n",
    "\n",
    "from sklearn.metrics import confusion_matrix\n",
    "matplotlib.rcParams['interactive'] == True\n",
    "\n",
    "def plot_confusion_matrix(cm, classes,\n",
    "                          normalize=False,\n",
    "                          title='Confusion matrix',\n",
    "                          cmap=plt.cm.Blues):\n",
    "    \"\"\"\n",
    "    This function prints and plots the confusion matrix.\n",
    "    Normalization can be applied by setting `normalize=True`.\n",
    "    \"\"\"\n",
    "    if normalize:\n",
    "        cm = cm.astype('float') / cm.sum(axis=1)[:, np.newaxis]\n",
    "        print(\"Normalized confusion matrix\")\n",
    "    else:\n",
    "        print('Confusion matrix, without normalization')\n",
    "\n",
    "    print(cm)\n",
    "\n",
    "    plt.imshow(cm, interpolation='nearest', cmap=cmap)\n",
    "    plt.title(title)\n",
    "    plt.colorbar()\n",
    "    tick_marks = np.arange(len(classes))\n",
    "    plt.xticks(tick_marks, classes, rotation=45)\n",
    "    plt.yticks(tick_marks, classes)\n",
    "\n",
    "    fmt = '.2f' if normalize else 'd'\n",
    "    thresh = cm.max() / 2.\n",
    "    for i, j in itertools.product(range(cm.shape[0]), range(cm.shape[1])):\n",
    "        plt.text(j, i, format(cm[i, j], fmt),\n",
    "                 horizontalalignment=\"center\",\n",
    "                 color=\"white\" if cm[i, j] > thresh else \"black\")\n",
    "\n",
    "    plt.ylabel('True label')\n",
    "    plt.xlabel('Predicted label')\n",
    "    plt.tight_layout()\n",
    "\n",
    "\n",
    "# Compute confusion matrix\n",
    "np.set_printoptions(precision=2)\n",
    "class_names = cc_types\n",
    "# Plot non-normalized confusion matrix\n",
    "plt.figure(figsize=(15,15))\n",
    "plot_confusion_matrix(cnf_matrix, classes=class_names,\n",
    "                      title='Confusion matrix, without normalization')\n",
    "\n",
    "# Plot normalized confusion matrix\n",
    "plt.figure(figsize=(15,15))\n",
    "plot_confusion_matrix(cnf_matrix, classes=class_names, normalize=True,\n",
    "                      title='Normalized confusion matrix')\n",
    "\n",
    "plt.show()"
   ]
  },
  {
   "cell_type": "code",
   "execution_count": null,
   "metadata": {},
   "outputs": [],
   "source": []
  },
  {
   "cell_type": "code",
   "execution_count": null,
   "metadata": {},
   "outputs": [],
   "source": []
  }
 ],
 "metadata": {
  "kernelspec": {
   "display_name": "Python 3",
   "language": "python",
   "name": "python3"
  },
  "language_info": {
   "codemirror_mode": {
    "name": "ipython",
    "version": 3
   },
   "file_extension": ".py",
   "mimetype": "text/x-python",
   "name": "python",
   "nbconvert_exporter": "python",
   "pygments_lexer": "ipython3",
   "version": "3.6.4"
  }
 },
 "nbformat": 4,
 "nbformat_minor": 2
}
